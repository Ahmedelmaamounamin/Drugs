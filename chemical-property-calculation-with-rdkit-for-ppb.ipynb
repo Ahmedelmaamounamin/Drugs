{
 "cells": [
  {
   "cell_type": "markdown",
   "id": "faa40dd7",
   "metadata": {
    "papermill": {
     "duration": 0.002645,
     "end_time": "2024-01-12T16:22:14.230357",
     "exception": false,
     "start_time": "2024-01-12T16:22:14.227712",
     "status": "completed"
    },
    "tags": []
   },
   "source": [
    "# Chemical Property Calculator with RDKit\n",
    "\n",
    "This project provides a user-friendly way to determine various chemical properties of a compound using a system known as SMILES code. SMILES, which stands for \"Simplified Molecular Input Line Entry System,\" is a straightforward text-based representation used by chemists to describe the structure of chemical compounds. It simplifies the complex world of molecular structures into a format that can be easily processed by computers, making it an invaluable tool in chemistry and computational science.\n",
    "\n",
    "With this tool, you can explore the characteristics of different compounds by inputting their SMILES code. The RDKit library is employed to parse the SMILES code and calculate a range of important chemical properties, including:\n",
    "\n",
    "- Molecular Weight\n",
    "- AlogP\n",
    "- Polar Surface Area (PSA)\n",
    "- Number of H-Bond Donors\n",
    "- Number of H-Bond Acceptors\n",
    "- Number of Rotatable Bonds\n",
    "- Number of Aromatic Rings\n",
    "- Number of Heavy Atoms\n",
    "\n",
    "By using the SMILES code and the power of RDKit, you can easily explore these properties, whether you're a seasoned chemist or someone new to the world of chemistry. Enjoy investigating the characteristics of your compounds with this versatile chemical property calculator!"
   ]
  },
  {
   "cell_type": "code",
   "execution_count": 1,
   "id": "9e9b5a6d",
   "metadata": {
    "_cell_guid": "b1076dfc-b9ad-4769-8c92-a6c4dae69d19",
    "_kg_hide-output": true,
    "_uuid": "8f2839f25d086af736a60e9eeb907d3b93b6e0e5",
    "execution": {
     "iopub.execute_input": "2024-01-12T16:22:14.236431Z",
     "iopub.status.busy": "2024-01-12T16:22:14.236042Z",
     "iopub.status.idle": "2024-01-12T16:22:14.249009Z",
     "shell.execute_reply": "2024-01-12T16:22:14.247899Z"
    },
    "papermill": {
     "duration": 0.018478,
     "end_time": "2024-01-12T16:22:14.251195",
     "exception": false,
     "start_time": "2024-01-12T16:22:14.232717",
     "status": "completed"
    },
    "tags": []
   },
   "outputs": [
    {
     "data": {
      "text/plain": [
       "'\\n# Install rdkit to kaggle\\n!conda install -c conda-forge rdkit -y\\n\\n'"
      ]
     },
     "execution_count": 1,
     "metadata": {},
     "output_type": "execute_result"
    }
   ],
   "source": [
    "\"\"\"\n",
    "# Install rdkit to kaggle\n",
    "!conda install -c conda-forge rdkit -y\n",
    "\n",
    "\"\"\""
   ]
  },
  {
   "cell_type": "code",
   "execution_count": 2,
   "id": "dccdefdc",
   "metadata": {
    "execution": {
     "iopub.execute_input": "2024-01-12T16:22:14.257373Z",
     "iopub.status.busy": "2024-01-12T16:22:14.256983Z",
     "iopub.status.idle": "2024-01-12T16:22:14.263605Z",
     "shell.execute_reply": "2024-01-12T16:22:14.262579Z"
    },
    "papermill": {
     "duration": 0.012211,
     "end_time": "2024-01-12T16:22:14.265777",
     "exception": false,
     "start_time": "2024-01-12T16:22:14.253566",
     "status": "completed"
    },
    "tags": []
   },
   "outputs": [
    {
     "data": {
      "text/plain": [
       "'\\n# Import libraries\\nfrom rdkit import Chem\\nfrom rdkit.Chem import Descriptors\\n'"
      ]
     },
     "execution_count": 2,
     "metadata": {},
     "output_type": "execute_result"
    }
   ],
   "source": [
    "\"\"\"\n",
    "# Import libraries\n",
    "from rdkit import Chem\n",
    "from rdkit.Chem import Descriptors\n",
    "\"\"\""
   ]
  },
  {
   "cell_type": "markdown",
   "id": "955395db",
   "metadata": {
    "papermill": {
     "duration": 0.002075,
     "end_time": "2024-01-12T16:22:14.270351",
     "exception": false,
     "start_time": "2024-01-12T16:22:14.268276",
     "status": "completed"
    },
    "tags": []
   },
   "source": [
    "# Calculate Chemical Properties from SMILES\n",
    "\n",
    "The below code cell allows you to calculate various chemical properties of a compound by entering its SMILES  code. Simply remove the comments (\"'''\") around the code and follow the instructions below to input the SMILES code.\n",
    "\n",
    "### Instructions:\n",
    "1. Remove the comments \"'''\" from the code below.\n",
    "2. Input the SMILES code of your compound when prompted.\n",
    "3. The code will calculate and display the following chemical properties:\n",
    "   - Molecular Weight\n",
    "   - AlogP\n",
    "   - Polar Surface Area (PSA)\n",
    "   - Number of H-Bond Donors\n",
    "   - Number of H-Bond Acceptors\n",
    "   - Number of Rotatable Bonds\n",
    "   - Number of Aromatic Rings\n",
    "   - Number of Heavy Atoms\n",
    "\n",
    "Enjoy exploring the properties of your compound!\n"
   ]
  },
  {
   "cell_type": "code",
   "execution_count": 3,
   "id": "fd044f8c",
   "metadata": {
    "execution": {
     "iopub.execute_input": "2024-01-12T16:22:14.276781Z",
     "iopub.status.busy": "2024-01-12T16:22:14.276012Z",
     "iopub.status.idle": "2024-01-12T16:22:14.282990Z",
     "shell.execute_reply": "2024-01-12T16:22:14.281960Z"
    },
    "papermill": {
     "duration": 0.012655,
     "end_time": "2024-01-12T16:22:14.285207",
     "exception": false,
     "start_time": "2024-01-12T16:22:14.272552",
     "status": "completed"
    },
    "tags": []
   },
   "outputs": [
    {
     "data": {
      "text/plain": [
       "'\\n# Enter the SMILES code\\nsmiles_string = input(\"Please enter your SMILES code: \")\\n\\n# Parse the SMILES string into a molecule object\\nmol = Chem.MolFromSmiles(smiles_string)\\n\\n# Calculate and store each property in the specified variables\\nMolecular_Weight = Descriptors.MolWt(mol)\\nAlogP = Descriptors.MolLogP(mol)\\nPSA = Descriptors.TPSA(mol)\\nH_Bond_Donors = Descriptors.NumHDonors(mol)\\nH_Bond_Acceptors = Descriptors.NumHAcceptors(mol)\\nRotatable_Bonds = Descriptors.NumRotatableBonds(mol)\\nAromatic_Rings = Descriptors.NumAromaticRings(mol)\\nHeavy_Atoms = Descriptors.HeavyAtomCount(mol)\\n\\n# Print the calculated properties\\nprint(f\"Molecular Weight: {Molecular_Weight}\")\\nprint(f\"AlogP: {AlogP}\")\\nprint(f\"Polar Surface Area: {PSA}\")\\nprint(f\"Number of H-Bond Donors: {H_Bond_Donors}\")\\nprint(f\"Number of H-Bond Acceptors: {H_Bond_Acceptors}\")\\nprint(f\"Number of Rotatable Bonds: {Rotatable_Bonds}\")\\nprint(f\"Number of Aromatic Rings: {Aromatic_Rings}\")\\nprint(f\"Number of Heavy Atoms: {Heavy_Atoms}\")\\n\\n'"
      ]
     },
     "execution_count": 3,
     "metadata": {},
     "output_type": "execute_result"
    }
   ],
   "source": [
    "\"\"\"\n",
    "# Enter the SMILES code\n",
    "smiles_string = input(\"Please enter your SMILES code: \")\n",
    "\n",
    "# Parse the SMILES string into a molecule object\n",
    "mol = Chem.MolFromSmiles(smiles_string)\n",
    "\n",
    "# Calculate and store each property in the specified variables\n",
    "Molecular_Weight = Descriptors.MolWt(mol)\n",
    "AlogP = Descriptors.MolLogP(mol)\n",
    "PSA = Descriptors.TPSA(mol)\n",
    "H_Bond_Donors = Descriptors.NumHDonors(mol)\n",
    "H_Bond_Acceptors = Descriptors.NumHAcceptors(mol)\n",
    "Rotatable_Bonds = Descriptors.NumRotatableBonds(mol)\n",
    "Aromatic_Rings = Descriptors.NumAromaticRings(mol)\n",
    "Heavy_Atoms = Descriptors.HeavyAtomCount(mol)\n",
    "\n",
    "# Print the calculated properties\n",
    "print(f\"Molecular Weight: {Molecular_Weight}\")\n",
    "print(f\"AlogP: {AlogP}\")\n",
    "print(f\"Polar Surface Area: {PSA}\")\n",
    "print(f\"Number of H-Bond Donors: {H_Bond_Donors}\")\n",
    "print(f\"Number of H-Bond Acceptors: {H_Bond_Acceptors}\")\n",
    "print(f\"Number of Rotatable Bonds: {Rotatable_Bonds}\")\n",
    "print(f\"Number of Aromatic Rings: {Aromatic_Rings}\")\n",
    "print(f\"Number of Heavy Atoms: {Heavy_Atoms}\")\n",
    "\n",
    "\"\"\"\n"
   ]
  }
 ],
 "metadata": {
  "kaggle": {
   "accelerator": "none",
   "dataSources": [],
   "dockerImageVersionId": 30558,
   "isGpuEnabled": false,
   "isInternetEnabled": true,
   "language": "python",
   "sourceType": "notebook"
  },
  "kernelspec": {
   "display_name": "Python 3",
   "language": "python",
   "name": "python3"
  },
  "language_info": {
   "codemirror_mode": {
    "name": "ipython",
    "version": 3
   },
   "file_extension": ".py",
   "mimetype": "text/x-python",
   "name": "python",
   "nbconvert_exporter": "python",
   "pygments_lexer": "ipython3",
   "version": "3.10.12"
  },
  "papermill": {
   "default_parameters": {},
   "duration": 4.440016,
   "end_time": "2024-01-12T16:22:14.707615",
   "environment_variables": {},
   "exception": null,
   "input_path": "__notebook__.ipynb",
   "output_path": "__notebook__.ipynb",
   "parameters": {},
   "start_time": "2024-01-12T16:22:10.267599",
   "version": "2.4.0"
  }
 },
 "nbformat": 4,
 "nbformat_minor": 5
}
