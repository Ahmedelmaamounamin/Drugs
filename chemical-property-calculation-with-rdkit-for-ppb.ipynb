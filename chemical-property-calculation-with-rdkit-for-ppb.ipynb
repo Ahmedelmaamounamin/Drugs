{
 "cells": [
  {
   "cell_type": "markdown",
   "id": "0b43e305",
   "metadata": {
    "papermill": {
     "duration": 0.003557,
     "end_time": "2024-01-12T16:35:53.750441",
     "exception": false,
     "start_time": "2024-01-12T16:35:53.746884",
     "status": "completed"
    },
    "tags": []
   },
   "source": [
    "# Chemical Property Calculator with RDKit\n",
    "\n",
    "This project provides a user-friendly way to determine various chemical properties of a compound using a system known as SMILES code. SMILES, which stands for \"Simplified Molecular Input Line Entry System,\" is a straightforward text-based representation used by chemists to describe the structure of chemical compounds. It simplifies the complex world of molecular structures into a format that can be easily processed by computers, making it an invaluable tool in chemistry and computational science.\n",
    "\n",
    "With this tool, you can explore the characteristics of different compounds by inputting their SMILES code. The RDKit library is employed to parse the SMILES code and calculate a range of important chemical properties, including:\n",
    "\n",
    "- Molecular Weight\n",
    "- AlogP\n",
    "- Polar Surface Area (PSA)\n",
    "- Number of H-Bond Donors\n",
    "- Number of H-Bond Acceptors\n",
    "- Number of Rotatable Bonds\n",
    "- Number of Aromatic Rings\n",
    "- Number of Heavy Atoms\n",
    "\n",
    "By using the SMILES code and the power of RDKit, you can easily explore these properties, whether you're a seasoned chemist or someone new to the world of chemistry. Enjoy investigating the characteristics of your compounds with this versatile chemical property calculator!"
   ]
  },
  {
   "cell_type": "code",
   "execution_count": 1,
   "id": "c41458bd",
   "metadata": {
    "_cell_guid": "b1076dfc-b9ad-4769-8c92-a6c4dae69d19",
    "_kg_hide-output": true,
    "_uuid": "8f2839f25d086af736a60e9eeb907d3b93b6e0e5",
    "execution": {
     "iopub.execute_input": "2024-01-12T16:35:53.758007Z",
     "iopub.status.busy": "2024-01-12T16:35:53.757093Z",
     "iopub.status.idle": "2024-01-12T16:36:08.761623Z",
     "shell.execute_reply": "2024-01-12T16:36:08.760278Z"
    },
    "papermill": {
     "duration": 15.011193,
     "end_time": "2024-01-12T16:36:08.764486",
     "exception": false,
     "start_time": "2024-01-12T16:35:53.753293",
     "status": "completed"
    },
    "tags": []
   },
   "outputs": [
    {
     "name": "stdout",
     "output_type": "stream",
     "text": [
      "Collecting rdkit-pypi\r\n",
      "  Downloading rdkit_pypi-2022.9.5-cp310-cp310-manylinux_2_17_x86_64.manylinux2014_x86_64.whl (29.4 MB)\r\n",
      "\u001b[2K     \u001b[90m━━━━━━━━━━━━━━━━━━━━━━━━━━━━━━━━━━━━━━━━\u001b[0m \u001b[32m29.4/29.4 MB\u001b[0m \u001b[31m37.0 MB/s\u001b[0m eta \u001b[36m0:00:00\u001b[0m\r\n",
      "\u001b[?25hRequirement already satisfied: numpy in /opt/conda/lib/python3.10/site-packages (from rdkit-pypi) (1.23.5)\r\n",
      "Requirement already satisfied: Pillow in /opt/conda/lib/python3.10/site-packages (from rdkit-pypi) (9.5.0)\r\n",
      "Installing collected packages: rdkit-pypi\r\n",
      "Successfully installed rdkit-pypi-2022.9.5\r\n"
     ]
    }
   ],
   "source": [
    "!pip install rdkit-pypi"
   ]
  },
  {
   "cell_type": "code",
   "execution_count": 2,
   "id": "6827f77e",
   "metadata": {
    "execution": {
     "iopub.execute_input": "2024-01-12T16:36:08.773443Z",
     "iopub.status.busy": "2024-01-12T16:36:08.773037Z",
     "iopub.status.idle": "2024-01-12T16:36:08.889631Z",
     "shell.execute_reply": "2024-01-12T16:36:08.888359Z"
    },
    "papermill": {
     "duration": 0.124332,
     "end_time": "2024-01-12T16:36:08.892617",
     "exception": false,
     "start_time": "2024-01-12T16:36:08.768285",
     "status": "completed"
    },
    "tags": []
   },
   "outputs": [],
   "source": [
    "\n",
    "# Import libraries\n",
    "from rdkit import Chem\n",
    "from rdkit.Chem import Descriptors\n"
   ]
  },
  {
   "cell_type": "markdown",
   "id": "e108a7a4",
   "metadata": {
    "papermill": {
     "duration": 0.002954,
     "end_time": "2024-01-12T16:36:08.898938",
     "exception": false,
     "start_time": "2024-01-12T16:36:08.895984",
     "status": "completed"
    },
    "tags": []
   },
   "source": [
    "# Calculate Chemical Properties from SMILES\n",
    "\n",
    "The below code cell allows you to calculate various chemical properties of a compound by entering its SMILES  code. Simply remove the comments (\"'''\") around the code and follow the instructions below to input the SMILES code.\n",
    "\n",
    "### Instructions:\n",
    "1. Remove the comments \"'''\" from the code below.\n",
    "2. Input the SMILES code of your compound when prompted.\n",
    "3. The code will calculate and display the following chemical properties:\n",
    "   - Molecular Weight\n",
    "   - AlogP\n",
    "   - Polar Surface Area (PSA)\n",
    "   - Number of H-Bond Donors\n",
    "   - Number of H-Bond Acceptors\n",
    "   - Number of Rotatable Bonds\n",
    "   - Number of Aromatic Rings\n",
    "   - Number of Heavy Atoms\n",
    "\n",
    "Enjoy exploring the properties of your compound!\n"
   ]
  },
  {
   "cell_type": "code",
   "execution_count": 3,
   "id": "190b1f7b",
   "metadata": {
    "execution": {
     "iopub.execute_input": "2024-01-12T16:36:08.907172Z",
     "iopub.status.busy": "2024-01-12T16:36:08.906809Z",
     "iopub.status.idle": "2024-01-12T16:36:08.916333Z",
     "shell.execute_reply": "2024-01-12T16:36:08.915031Z"
    },
    "papermill": {
     "duration": 0.016499,
     "end_time": "2024-01-12T16:36:08.918640",
     "exception": false,
     "start_time": "2024-01-12T16:36:08.902141",
     "status": "completed"
    },
    "tags": []
   },
   "outputs": [
    {
     "data": {
      "text/plain": [
       "'\\n# Enter the SMILES code\\nsmiles_string = input(\"Please enter your SMILES code: \")\\n\\n# Parse the SMILES string into a molecule object\\nmol = Chem.MolFromSmiles(smiles_string)\\n\\n# Calculate and store each property in the specified variables\\nMolecular_Weight = Descriptors.MolWt(mol)\\nAlogP = Descriptors.MolLogP(mol)\\nPSA = Descriptors.TPSA(mol)\\nH_Bond_Donors = Descriptors.NumHDonors(mol)\\nH_Bond_Acceptors = Descriptors.NumHAcceptors(mol)\\nRotatable_Bonds = Descriptors.NumRotatableBonds(mol)\\nAromatic_Rings = Descriptors.NumAromaticRings(mol)\\nHeavy_Atoms = Descriptors.HeavyAtomCount(mol)\\n\\n# Print the calculated properties\\nprint(f\"Molecular Weight: {Molecular_Weight}\")\\nprint(f\"AlogP: {AlogP}\")\\nprint(f\"Polar Surface Area: {PSA}\")\\nprint(f\"Number of H-Bond Donors: {H_Bond_Donors}\")\\nprint(f\"Number of H-Bond Acceptors: {H_Bond_Acceptors}\")\\nprint(f\"Number of Rotatable Bonds: {Rotatable_Bonds}\")\\nprint(f\"Number of Aromatic Rings: {Aromatic_Rings}\")\\nprint(f\"Number of Heavy Atoms: {Heavy_Atoms}\")\\n'"
      ]
     },
     "execution_count": 3,
     "metadata": {},
     "output_type": "execute_result"
    }
   ],
   "source": [
    "\"\"\"\n",
    "# Enter the SMILES code\n",
    "smiles_string = input(\"Please enter your SMILES code: \")\n",
    "\n",
    "# Parse the SMILES string into a molecule object\n",
    "mol = Chem.MolFromSmiles(smiles_string)\n",
    "\n",
    "# Calculate and store each property in the specified variables\n",
    "Molecular_Weight = Descriptors.MolWt(mol)\n",
    "AlogP = Descriptors.MolLogP(mol)\n",
    "PSA = Descriptors.TPSA(mol)\n",
    "H_Bond_Donors = Descriptors.NumHDonors(mol)\n",
    "H_Bond_Acceptors = Descriptors.NumHAcceptors(mol)\n",
    "Rotatable_Bonds = Descriptors.NumRotatableBonds(mol)\n",
    "Aromatic_Rings = Descriptors.NumAromaticRings(mol)\n",
    "Heavy_Atoms = Descriptors.HeavyAtomCount(mol)\n",
    "\n",
    "# Print the calculated properties\n",
    "print(f\"Molecular Weight: {Molecular_Weight}\")\n",
    "print(f\"AlogP: {AlogP}\")\n",
    "print(f\"Polar Surface Area: {PSA}\")\n",
    "print(f\"Number of H-Bond Donors: {H_Bond_Donors}\")\n",
    "print(f\"Number of H-Bond Acceptors: {H_Bond_Acceptors}\")\n",
    "print(f\"Number of Rotatable Bonds: {Rotatable_Bonds}\")\n",
    "print(f\"Number of Aromatic Rings: {Aromatic_Rings}\")\n",
    "print(f\"Number of Heavy Atoms: {Heavy_Atoms}\")\n",
    "\"\"\"\n"
   ]
  }
 ],
 "metadata": {
  "kaggle": {
   "accelerator": "none",
   "dataSources": [],
   "dockerImageVersionId": 30558,
   "isGpuEnabled": false,
   "isInternetEnabled": true,
   "language": "python",
   "sourceType": "notebook"
  },
  "kernelspec": {
   "display_name": "Python 3",
   "language": "python",
   "name": "python3"
  },
  "language_info": {
   "codemirror_mode": {
    "name": "ipython",
    "version": 3
   },
   "file_extension": ".py",
   "mimetype": "text/x-python",
   "name": "python",
   "nbconvert_exporter": "python",
   "pygments_lexer": "ipython3",
   "version": "3.10.12"
  },
  "papermill": {
   "default_parameters": {},
   "duration": 19.477049,
   "end_time": "2024-01-12T16:36:09.341851",
   "environment_variables": {},
   "exception": null,
   "input_path": "__notebook__.ipynb",
   "output_path": "__notebook__.ipynb",
   "parameters": {},
   "start_time": "2024-01-12T16:35:49.864802",
   "version": "2.4.0"
  }
 },
 "nbformat": 4,
 "nbformat_minor": 5
}
