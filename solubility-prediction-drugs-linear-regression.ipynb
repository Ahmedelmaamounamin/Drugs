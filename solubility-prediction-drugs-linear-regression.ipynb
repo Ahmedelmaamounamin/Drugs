{
 "cells": [
  {
   "cell_type": "markdown",
   "id": "16007b32",
   "metadata": {
    "papermill": {
     "duration": 0.00839,
     "end_time": "2023-08-31T15:44:53.222490",
     "exception": false,
     "start_time": "2023-08-31T15:44:53.214100",
     "status": "completed"
    },
    "tags": []
   },
   "source": [
    "<div align=\"center\">\n",
    "  <h1 style=\"text-align: center; padding: 10px;\">Solubility Prediction</h1>\n",
    "</div>\n",
    "\n",
    "## Introduction\n",
    "\n",
    "Solubility is a crucial property of organic compounds in the field of chemistry. It refers to the ability of a compound to dissolve in a solvent, typically water. Understanding solubility is essential because it impacts various aspects of chemical research and development, such as drug formulation, environmental impact assessment, and material science.\n",
    "\n",
    "## Data Source\n",
    "\n",
    "The data for this project was collected from the ChEMBL website, a prominent repository of bioactive molecules. The dataset used here contains information on organic compounds, including their molecular properties and solubility. As of the last update in January 2023, the dataset comprises an impressive 2,354,965 compounds.\n",
    "\n",
    "## Data Preparation\n",
    "\n",
    "The dataset underwent a rigorous cleaning process to ensure its reliability and usability. This cleaning process involved several steps, such as:\n",
    "\n",
    "- Handling missing values: NaN values were removed or imputed.\n",
    "- Data type conversion: Certain columns were converted to the appropriate numeric format.\n",
    "- Removal of duplicates: Duplicate entries were identified and eliminated.\n",
    "\n",
    "These cleaning steps were essential to prepare the data for accurate and meaningful solubility predictions.\n",
    "\n",
    "## AlogP and Its Significance\n",
    "\n",
    "One of the key molecular properties used in solubility prediction is AlogP, or the logarithm of the partition coefficient. AlogP measures the lipophilicity of a compound, indicating how well it can partition between an organic solvent and water. \n",
    "\n",
    "In simpler terms, AlogP helps us understand whether a compound prefers to dissolve in a non-polar environment (like oil) or a polar environment (like water). Compounds with higher AlogP values are typically less soluble in water, while those with lower values are more water-soluble.\n",
    "\n",
    "## Model Training\n",
    "\n",
    "A linear regression model was trained using the prepared data. The model was trained with the following specifications:\n",
    "\n",
    "- Number of training epochs: 100,000\n",
    "- Learning rate: 0.00001\n",
    "- Evaluation metric: Mean squared error (L2 loss)\n",
    "\n",
    "Throughout the training process, the model's performance improved gradually. As an illustration, at Epoch 90000, the training L2 loss was observed to be 0.6186. This indicates that the model was converging toward a lower loss value, suggesting improved predictive capabilities.\n",
    "\n",
    "\n",
    "## Predicting AlogP\n",
    "\n",
    "This project includes the functionality to predict AlogP for a given set of molecular properties. Users can input the feature values for a molecule, and the trained model will provide the predicted AlogP value.\n",
    "\n",
    "## Interpretation\n",
    "\n",
    "Interpreting the AlogP prediction is essential. Here's a simple guideline:\n",
    "\n",
    "- Positive AlogP: Indicates a compound is more hydrophobic and has a greater affinity for the organic phase.\n",
    "- Negative AlogP: Suggests a compound is more hydrophilic and prefers the aqueous phase.\n",
    "\n",
    "## Conclusion\n",
    "\n",
    "Understanding and predicting solubility, especially in the context of AlogP, is vital for various scientific and industrial applications. This project utilizes machine learning techniques to make accurate predictions about the solubility of organic compounds, contributing to advancements in drug discovery, environmental science, and material design.\n",
    "\n",
    "The combination of data cleaning, feature selection, and model training demonstrates a structured approach to tackling real-world challenges in chemistry and data science.\n"
   ]
  },
  {
   "cell_type": "code",
   "execution_count": 1,
   "id": "bacb5f05",
   "metadata": {
    "execution": {
     "iopub.execute_input": "2023-08-31T15:44:53.240320Z",
     "iopub.status.busy": "2023-08-31T15:44:53.239173Z",
     "iopub.status.idle": "2023-08-31T15:44:54.666797Z",
     "shell.execute_reply": "2023-08-31T15:44:54.665480Z"
    },
    "papermill": {
     "duration": 1.439492,
     "end_time": "2023-08-31T15:44:54.669683",
     "exception": false,
     "start_time": "2023-08-31T15:44:53.230191",
     "status": "completed"
    },
    "tags": []
   },
   "outputs": [
    {
     "name": "stderr",
     "output_type": "stream",
     "text": [
      "/opt/conda/lib/python3.10/site-packages/scipy/__init__.py:146: UserWarning: A NumPy version >=1.16.5 and <1.23.0 is required for this version of SciPy (detected version 1.23.5\n",
      "  warnings.warn(f\"A NumPy version >={np_minversion} and <{np_maxversion}\"\n"
     ]
    }
   ],
   "source": [
    "import matplotlib.pyplot as plt\n",
    "import numpy as np \n",
    "import pandas as pd \n",
    "from sklearn.linear_model import LinearRegression\n",
    "from sklearn.model_selection import train_test_split\n",
    "from sklearn.metrics import mean_absolute_error, mean_squared_error, r2_score\n",
    "import joblib"
   ]
  },
  {
   "cell_type": "code",
   "execution_count": 2,
   "id": "32513355",
   "metadata": {
    "execution": {
     "iopub.execute_input": "2023-08-31T15:44:54.687105Z",
     "iopub.status.busy": "2023-08-31T15:44:54.686591Z",
     "iopub.status.idle": "2023-08-31T15:45:25.736566Z",
     "shell.execute_reply": "2023-08-31T15:45:25.735472Z"
    },
    "papermill": {
     "duration": 31.069334,
     "end_time": "2023-08-31T15:45:25.746583",
     "exception": false,
     "start_time": "2023-08-31T15:44:54.677249",
     "status": "completed"
    },
    "tags": []
   },
   "outputs": [
    {
     "name": "stderr",
     "output_type": "stream",
     "text": [
      "/tmp/ipykernel_20/4187779942.py:2: DtypeWarning: Columns (27) have mixed types. Specify dtype option on import or set low_memory=False.\n",
      "  df = pd.read_csv(\"/kaggle/input/most-drugs/All Drugs.csv\", delimiter=';', on_bad_lines='skip')\n"
     ]
    },
    {
     "name": "stdout",
     "output_type": "stream",
     "text": [
      "Dataset loaded successfully.\n"
     ]
    }
   ],
   "source": [
    "# Load the dataset using pandas with the specified delimiter\n",
    "df = pd.read_csv(\"/kaggle/input/most-drugs/All Drugs.csv\", delimiter=';', on_bad_lines='skip')\n",
    "\n",
    "# Check if the file is loaded successfully\n",
    "if not df.empty:\n",
    "    print(f\"Dataset loaded successfully.\")\n",
    "else:\n",
    "    print(f\"Failed to load the dataset.\")\n"
   ]
  },
  {
   "cell_type": "code",
   "execution_count": 3,
   "id": "7ed3e6ef",
   "metadata": {
    "execution": {
     "iopub.execute_input": "2023-08-31T15:45:25.764676Z",
     "iopub.status.busy": "2023-08-31T15:45:25.763423Z",
     "iopub.status.idle": "2023-08-31T15:45:25.770099Z",
     "shell.execute_reply": "2023-08-31T15:45:25.769091Z"
    },
    "papermill": {
     "duration": 0.018317,
     "end_time": "2023-08-31T15:45:25.772581",
     "exception": false,
     "start_time": "2023-08-31T15:45:25.754264",
     "status": "completed"
    },
    "tags": []
   },
   "outputs": [
    {
     "name": "stdout",
     "output_type": "stream",
     "text": [
      "Index(['ChEMBL ID', 'Name', 'Synonyms', 'Type', 'Max Phase',\n",
      "       'Molecular Weight', 'Targets', 'Bioactivities', 'AlogP',\n",
      "       'Polar Surface Area', 'HBA', 'HBD', '#RO5 Violations',\n",
      "       '#Rotatable Bonds', 'Passes Ro3', 'QED Weighted', 'CX Acidic pKa',\n",
      "       'CX Basic pKa', 'CX LogP', 'CX LogD', 'Aromatic Rings',\n",
      "       'Structure Type', 'Inorganic Flag', 'Heavy Atoms', 'HBA (Lipinski)',\n",
      "       'HBD (Lipinski)', '#RO5 Violations (Lipinski)',\n",
      "       'Molecular Weight (Monoisotopic)', 'Np Likeness Score',\n",
      "       'Molecular Species', 'Molecular Formula', 'Smiles', 'Inchi Key'],\n",
      "      dtype='object')\n"
     ]
    }
   ],
   "source": [
    "# Check the column names in the DataFrame\n",
    "print(df.columns)\n"
   ]
  },
  {
   "cell_type": "code",
   "execution_count": 4,
   "id": "31e494b8",
   "metadata": {
    "execution": {
     "iopub.execute_input": "2023-08-31T15:45:25.790602Z",
     "iopub.status.busy": "2023-08-31T15:45:25.790172Z",
     "iopub.status.idle": "2023-08-31T15:46:20.571345Z",
     "shell.execute_reply": "2023-08-31T15:46:20.570274Z"
    },
    "papermill": {
     "duration": 54.800214,
     "end_time": "2023-08-31T15:46:20.580732",
     "exception": false,
     "start_time": "2023-08-31T15:45:25.780518",
     "status": "completed"
    },
    "tags": []
   },
   "outputs": [
    {
     "name": "stdout",
     "output_type": "stream",
     "text": [
      "Filtered DataFrame contains 1920599 rows with Type 'Small molecule'.\n",
      "Filtered DataFrame saved as 'small_molecules.csv'.\n"
     ]
    }
   ],
   "source": [
    "# Filter the DataFrame to include only rows where Type is \"Small molecule\"\n",
    "small_molecules_df = df[df['Type'] == 'Small molecule']\n",
    "\n",
    "# Check if any rows match the filter condition\n",
    "if not small_molecules_df.empty:\n",
    "    print(f\"Filtered DataFrame contains {len(small_molecules_df)} rows with Type 'Small molecule'.\")\n",
    "else:\n",
    "    print(\"No rows match the filter condition.\")\n",
    "\n",
    "# Save the filtered DataFrame as a new CSV file called \"small_molecules.csv\"\n",
    "small_molecules_df.to_csv(\"/kaggle/working/small_molecules.csv\", index=False)\n",
    "\n",
    "print(\"Filtered DataFrame saved as 'small_molecules.csv'.\")\n"
   ]
  },
  {
   "cell_type": "code",
   "execution_count": 5,
   "id": "8eb00b19",
   "metadata": {
    "execution": {
     "iopub.execute_input": "2023-08-31T15:46:20.602445Z",
     "iopub.status.busy": "2023-08-31T15:46:20.600962Z",
     "iopub.status.idle": "2023-08-31T15:46:52.990444Z",
     "shell.execute_reply": "2023-08-31T15:46:52.989081Z"
    },
    "papermill": {
     "duration": 32.408776,
     "end_time": "2023-08-31T15:46:53.000138",
     "exception": false,
     "start_time": "2023-08-31T15:46:20.591362",
     "status": "completed"
    },
    "tags": []
   },
   "outputs": [
    {
     "name": "stderr",
     "output_type": "stream",
     "text": [
      "/tmp/ipykernel_20/2304391296.py:2: DtypeWarning: Columns (27) have mixed types. Specify dtype option on import or set low_memory=False.\n",
      "  small_molecules_df = pd.read_csv(\"/kaggle/working/small_molecules.csv\")\n"
     ]
    },
    {
     "name": "stdout",
     "output_type": "stream",
     "text": [
      "Filtered DataFrame contains 1920599 rows with selected columns.\n",
      "Filtered DataFrame with selected columns saved as 'solubility_data.csv'.\n"
     ]
    }
   ],
   "source": [
    "# Read the small_molecules.csv file\n",
    "small_molecules_df = pd.read_csv(\"/kaggle/working/small_molecules.csv\")\n",
    "\n",
    "# List of columns to keep\n",
    "columns_to_keep = [\n",
    "    \"Molecular Weight\",\n",
    "    \"AlogP\",\n",
    "    \"Polar Surface Area\",\n",
    "    \"HBD\",\n",
    "    \"HBA\",\n",
    "    \"#Rotatable Bonds\",\n",
    "    \"Aromatic Rings\",\n",
    "    \"Heavy Atoms\",\n",
    "]\n",
    "\n",
    "# Filter the DataFrame to include only the selected columns\n",
    "filtered_small_molecules_df = small_molecules_df[columns_to_keep]\n",
    "\n",
    "# Check if any rows match the filter condition\n",
    "if not filtered_small_molecules_df.empty:\n",
    "    print(f\"Filtered DataFrame contains {len(filtered_small_molecules_df)} rows with selected columns.\")\n",
    "else:\n",
    "    print(\"No rows match the filter condition.\")\n",
    "\n",
    "# Save the filtered DataFrame as a new CSV file called \"solubility_data.csv\"\n",
    "filtered_small_molecules_df.to_csv(\"/kaggle/working/solubility_data.csv\", index=False)\n",
    "\n",
    "print(\"Filtered DataFrame with selected columns saved as 'solubility_data.csv'.\")\n"
   ]
  },
  {
   "cell_type": "code",
   "execution_count": 6,
   "id": "827acf07",
   "metadata": {
    "execution": {
     "iopub.execute_input": "2023-08-31T15:46:53.019553Z",
     "iopub.status.busy": "2023-08-31T15:46:53.019082Z",
     "iopub.status.idle": "2023-08-31T15:46:55.176830Z",
     "shell.execute_reply": "2023-08-31T15:46:55.175300Z"
    },
    "papermill": {
     "duration": 2.170748,
     "end_time": "2023-08-31T15:46:55.179740",
     "exception": false,
     "start_time": "2023-08-31T15:46:53.008992",
     "status": "completed"
    },
    "tags": []
   },
   "outputs": [
    {
     "data": {
      "text/html": [
       "<div>\n",
       "<style scoped>\n",
       "    .dataframe tbody tr th:only-of-type {\n",
       "        vertical-align: middle;\n",
       "    }\n",
       "\n",
       "    .dataframe tbody tr th {\n",
       "        vertical-align: top;\n",
       "    }\n",
       "\n",
       "    .dataframe thead th {\n",
       "        text-align: right;\n",
       "    }\n",
       "</style>\n",
       "<table border=\"1\" class=\"dataframe\">\n",
       "  <thead>\n",
       "    <tr style=\"text-align: right;\">\n",
       "      <th></th>\n",
       "      <th>Molecular Weight</th>\n",
       "      <th>Polar Surface Area</th>\n",
       "      <th>HBD</th>\n",
       "      <th>HBA</th>\n",
       "      <th>#Rotatable Bonds</th>\n",
       "      <th>Aromatic Rings</th>\n",
       "      <th>Heavy Atoms</th>\n",
       "    </tr>\n",
       "  </thead>\n",
       "  <tbody>\n",
       "    <tr>\n",
       "      <th>0</th>\n",
       "      <td>356.28</td>\n",
       "      <td>170.05</td>\n",
       "      <td>6</td>\n",
       "      <td>10</td>\n",
       "      <td>3</td>\n",
       "      <td>2</td>\n",
       "      <td>25</td>\n",
       "    </tr>\n",
       "    <tr>\n",
       "      <th>1</th>\n",
       "      <td>439.58</td>\n",
       "      <td>48.95</td>\n",
       "      <td>1</td>\n",
       "      <td>6</td>\n",
       "      <td>13</td>\n",
       "      <td>3</td>\n",
       "      <td>31</td>\n",
       "    </tr>\n",
       "    <tr>\n",
       "      <th>2</th>\n",
       "      <td>359.36</td>\n",
       "      <td>84.71</td>\n",
       "      <td>1</td>\n",
       "      <td>5</td>\n",
       "      <td>5</td>\n",
       "      <td>2</td>\n",
       "      <td>26</td>\n",
       "    </tr>\n",
       "    <tr>\n",
       "      <th>3</th>\n",
       "      <td>395.50</td>\n",
       "      <td>53.09</td>\n",
       "      <td>0</td>\n",
       "      <td>5</td>\n",
       "      <td>7</td>\n",
       "      <td>2</td>\n",
       "      <td>29</td>\n",
       "    </tr>\n",
       "    <tr>\n",
       "      <th>4</th>\n",
       "      <td>217.22</td>\n",
       "      <td>55.40</td>\n",
       "      <td>1</td>\n",
       "      <td>3</td>\n",
       "      <td>2</td>\n",
       "      <td>1</td>\n",
       "      <td>16</td>\n",
       "    </tr>\n",
       "    <tr>\n",
       "      <th>...</th>\n",
       "      <td>...</td>\n",
       "      <td>...</td>\n",
       "      <td>...</td>\n",
       "      <td>...</td>\n",
       "      <td>...</td>\n",
       "      <td>...</td>\n",
       "      <td>...</td>\n",
       "    </tr>\n",
       "    <tr>\n",
       "      <th>1920594</th>\n",
       "      <td>402.51</td>\n",
       "      <td>105.55</td>\n",
       "      <td>3</td>\n",
       "      <td>7</td>\n",
       "      <td>6</td>\n",
       "      <td>3</td>\n",
       "      <td>30</td>\n",
       "    </tr>\n",
       "    <tr>\n",
       "      <th>1920595</th>\n",
       "      <td>293.41</td>\n",
       "      <td>23.47</td>\n",
       "      <td>1</td>\n",
       "      <td>2</td>\n",
       "      <td>3</td>\n",
       "      <td>2</td>\n",
       "      <td>22</td>\n",
       "    </tr>\n",
       "    <tr>\n",
       "      <th>1920596</th>\n",
       "      <td>398.48</td>\n",
       "      <td>77.23</td>\n",
       "      <td>3</td>\n",
       "      <td>3</td>\n",
       "      <td>7</td>\n",
       "      <td>2</td>\n",
       "      <td>29</td>\n",
       "    </tr>\n",
       "    <tr>\n",
       "      <th>1920597</th>\n",
       "      <td>443.56</td>\n",
       "      <td>29.95</td>\n",
       "      <td>1</td>\n",
       "      <td>6</td>\n",
       "      <td>6</td>\n",
       "      <td>2</td>\n",
       "      <td>29</td>\n",
       "    </tr>\n",
       "    <tr>\n",
       "      <th>1920598</th>\n",
       "      <td>385.71</td>\n",
       "      <td>42.21</td>\n",
       "      <td>1</td>\n",
       "      <td>5</td>\n",
       "      <td>5</td>\n",
       "      <td>3</td>\n",
       "      <td>23</td>\n",
       "    </tr>\n",
       "  </tbody>\n",
       "</table>\n",
       "<p>1920599 rows × 7 columns</p>\n",
       "</div>"
      ],
      "text/plain": [
       "         Molecular Weight Polar Surface Area HBD HBA #Rotatable Bonds  \\\n",
       "0                  356.28             170.05   6  10                3   \n",
       "1                  439.58              48.95   1   6               13   \n",
       "2                  359.36              84.71   1   5                5   \n",
       "3                  395.50              53.09   0   5                7   \n",
       "4                  217.22              55.40   1   3                2   \n",
       "...                   ...                ...  ..  ..              ...   \n",
       "1920594            402.51             105.55   3   7                6   \n",
       "1920595            293.41              23.47   1   2                3   \n",
       "1920596            398.48              77.23   3   3                7   \n",
       "1920597            443.56              29.95   1   6                6   \n",
       "1920598            385.71              42.21   1   5                5   \n",
       "\n",
       "        Aromatic Rings Heavy Atoms  \n",
       "0                    2          25  \n",
       "1                    3          31  \n",
       "2                    2          26  \n",
       "3                    2          29  \n",
       "4                    1          16  \n",
       "...                ...         ...  \n",
       "1920594              3          30  \n",
       "1920595              2          22  \n",
       "1920596              2          29  \n",
       "1920597              2          29  \n",
       "1920598              3          23  \n",
       "\n",
       "[1920599 rows x 7 columns]"
      ]
     },
     "execution_count": 6,
     "metadata": {},
     "output_type": "execute_result"
    }
   ],
   "source": [
    "#Display the list of columns and the data\n",
    "data = pd.read_csv('/kaggle/working/solubility_data.csv')\n",
    "x = data[['Molecular Weight', 'Polar Surface Area', 'HBD', 'HBA', '#Rotatable Bonds', 'Aromatic Rings', 'Heavy Atoms']]\n",
    "# Check the shape of the feature matrix (X)\n",
    "x.shape\n",
    "x"
   ]
  },
  {
   "cell_type": "code",
   "execution_count": 7,
   "id": "1c93d4f6",
   "metadata": {
    "execution": {
     "iopub.execute_input": "2023-08-31T15:46:55.199972Z",
     "iopub.status.busy": "2023-08-31T15:46:55.199535Z",
     "iopub.status.idle": "2023-08-31T15:47:07.987852Z",
     "shell.execute_reply": "2023-08-31T15:47:07.986587Z"
    },
    "papermill": {
     "duration": 12.801489,
     "end_time": "2023-08-31T15:47:07.990634",
     "exception": false,
     "start_time": "2023-08-31T15:46:55.189145",
     "status": "completed"
    },
    "tags": []
   },
   "outputs": [],
   "source": [
    "# Convert the specified columns to float64\n",
    "columns_to_convert = ['AlogP', 'Polar Surface Area', 'HBD', 'HBA', '#Rotatable Bonds', 'Aromatic Rings', 'Heavy Atoms']\n",
    "\n",
    "for column in columns_to_convert:\n",
    "    data[column] = pd.to_numeric(data[column], errors='coerce')"
   ]
  },
  {
   "cell_type": "code",
   "execution_count": 8,
   "id": "7f98196e",
   "metadata": {
    "execution": {
     "iopub.execute_input": "2023-08-31T15:47:08.011340Z",
     "iopub.status.busy": "2023-08-31T15:47:08.010215Z",
     "iopub.status.idle": "2023-08-31T15:47:08.044964Z",
     "shell.execute_reply": "2023-08-31T15:47:08.043564Z"
    },
    "papermill": {
     "duration": 0.04773,
     "end_time": "2023-08-31T15:47:08.047711",
     "exception": false,
     "start_time": "2023-08-31T15:47:07.999981",
     "status": "completed"
    },
    "tags": []
   },
   "outputs": [
    {
     "data": {
      "text/plain": [
       "Molecular Weight       2057\n",
       "AlogP                 33885\n",
       "Polar Surface Area    33885\n",
       "HBD                   33885\n",
       "HBA                   33885\n",
       "#Rotatable Bonds      33885\n",
       "Aromatic Rings        33885\n",
       "Heavy Atoms           33885\n",
       "dtype: int64"
      ]
     },
     "execution_count": 8,
     "metadata": {},
     "output_type": "execute_result"
    }
   ],
   "source": [
    "# Calculate missing values \n",
    "data.isnull().sum()"
   ]
  },
  {
   "cell_type": "code",
   "execution_count": 9,
   "id": "49cfaffc",
   "metadata": {
    "execution": {
     "iopub.execute_input": "2023-08-31T15:47:08.068186Z",
     "iopub.status.busy": "2023-08-31T15:47:08.067078Z",
     "iopub.status.idle": "2023-08-31T15:47:08.387626Z",
     "shell.execute_reply": "2023-08-31T15:47:08.386393Z"
    },
    "papermill": {
     "duration": 0.334167,
     "end_time": "2023-08-31T15:47:08.390903",
     "exception": false,
     "start_time": "2023-08-31T15:47:08.056736",
     "status": "completed"
    },
    "tags": []
   },
   "outputs": [],
   "source": [
    "# To remove rows with missing values (NaN)\n",
    "data.dropna(inplace=True)\n",
    "\n",
    "# To impute missing values with the mean\n",
    "data.fillna(data.mean(), inplace=True)"
   ]
  },
  {
   "cell_type": "code",
   "execution_count": 10,
   "id": "27b8aecc",
   "metadata": {
    "execution": {
     "iopub.execute_input": "2023-08-31T15:47:08.410749Z",
     "iopub.status.busy": "2023-08-31T15:47:08.410342Z",
     "iopub.status.idle": "2023-08-31T15:47:08.441496Z",
     "shell.execute_reply": "2023-08-31T15:47:08.440294Z"
    },
    "papermill": {
     "duration": 0.044135,
     "end_time": "2023-08-31T15:47:08.444005",
     "exception": false,
     "start_time": "2023-08-31T15:47:08.399870",
     "status": "completed"
    },
    "tags": []
   },
   "outputs": [
    {
     "data": {
      "text/plain": [
       "Molecular Weight      0\n",
       "AlogP                 0\n",
       "Polar Surface Area    0\n",
       "HBD                   0\n",
       "HBA                   0\n",
       "#Rotatable Bonds      0\n",
       "Aromatic Rings        0\n",
       "Heavy Atoms           0\n",
       "dtype: int64"
      ]
     },
     "execution_count": 10,
     "metadata": {},
     "output_type": "execute_result"
    }
   ],
   "source": [
    "# Double check that no more missing values\n",
    "data.isnull().sum()"
   ]
  },
  {
   "cell_type": "code",
   "execution_count": 11,
   "id": "6a49e912",
   "metadata": {
    "execution": {
     "iopub.execute_input": "2023-08-31T15:47:08.466023Z",
     "iopub.status.busy": "2023-08-31T15:47:08.465051Z",
     "iopub.status.idle": "2023-08-31T15:48:13.532059Z",
     "shell.execute_reply": "2023-08-31T15:48:13.530895Z"
    },
    "papermill": {
     "duration": 65.102861,
     "end_time": "2023-08-31T15:48:13.556000",
     "exception": false,
     "start_time": "2023-08-31T15:47:08.453139",
     "status": "completed"
    },
    "tags": []
   },
   "outputs": [
    {
     "name": "stdout",
     "output_type": "stream",
     "text": [
      "1886714\n",
      "Epoch 0: Training L2 Loss = 72893.56951859659\n",
      "Epoch 100: Training L2 Loss = 7.184199732562706\n",
      "Epoch 200: Training L2 Loss = 2.9095252690428133\n",
      "Epoch 300: Training L2 Loss = 2.4607800610312482\n",
      "Epoch 400: Training L2 Loss = 2.405731476415555\n",
      "Epoch 500: Training L2 Loss = 2.3912639091377175\n",
      "Epoch 600: Training L2 Loss = 2.381047146785375\n",
      "Epoch 700: Training L2 Loss = 2.3713426128312682\n",
      "Epoch 800: Training L2 Loss = 2.361764845160468\n",
      "Epoch 900: Training L2 Loss = 2.3522733681673365\n"
     ]
    },
    {
     "data": {
      "text/plain": [
       "['trained_model.pkl']"
      ]
     },
     "execution_count": 11,
     "metadata": {},
     "output_type": "execute_result"
    }
   ],
   "source": [
    "x = data[['Molecular Weight', 'Polar Surface Area', 'HBD', 'HBA', '#Rotatable Bonds', 'Aromatic Rings', 'Heavy Atoms']]\n",
    "y = data['AlogP']\n",
    "\n",
    "N = len(x)\n",
    "print(N)\n",
    "\n",
    "# Define a numpy array containing ones and concatenate it with the feature matrix\n",
    "ones = np.ones(N)\n",
    "Xp = np.c_[ones, x]\n",
    "\n",
    "# Reshape the target variable (y) to be a column vector\n",
    "y = y.values.reshape(-1, 1)\n",
    "\n",
    "# Split the data into training, validation, and test sets\n",
    "X_train, X_temp, y_train, y_temp = train_test_split(Xp, y, test_size=0.3, random_state=42)\n",
    "X_val, X_test, y_val, y_test = train_test_split(X_temp, y_temp, test_size=0.5, random_state=42)\n",
    "\n",
    "# Initialize the weights (coefficients) with random values\n",
    "w = 2 * np.random.rand(8, 1) - 1  # Shape (8, 1) for 7 features + bias term\n",
    "\n",
    "\n",
    "# Function to train the model and return the trained model\n",
    "def train_model(X_train, y_train):\n",
    "    # Initialize the weights (coefficients) with random values for training data\n",
    "    w = 2 * np.random.rand(8, 1) - 1  # Shape (8, 1) for 7 features + bias term\n",
    "\n",
    "    # Define the number of training epochs and the learning rate\n",
    "    epochs = 1000\n",
    "    learning_rate = 0.00001\n",
    "\n",
    "    # Training loop\n",
    "    for epoch in range(epochs):\n",
    "        # Calculate the predicted values using the current weights for training data\n",
    "        y_train_predicted = X_train @ w\n",
    "\n",
    "        # Calculate the error for training data\n",
    "        train_error = y_train - y_train_predicted\n",
    "\n",
    "        # Calculate the gradient of the loss with respect to the weights for training data\n",
    "        train_gradient = -(1/X_train.shape[0]) * X_train.T @ train_error\n",
    "\n",
    "        # Update the weights using gradient descent for training data\n",
    "        w = w - learning_rate * train_gradient\n",
    "\n",
    "        # Calculate the mean squared error (L2 loss) for training data\n",
    "        train_L2 = 0.5 * np.mean(train_error**2)\n",
    "\n",
    "        # Print progress every 10% of the epochs\n",
    "        if epoch % (epochs / 10) == 0:\n",
    "            print(f\"Epoch {epoch}: Training L2 Loss = {train_L2}\")\n",
    "\n",
    "    # Create a trained Linear Regression model\n",
    "    reg = LinearRegression()\n",
    "    reg.coef_ = w[1:].T  # Set the coefficients\n",
    "    reg.intercept_ = w[0][0]  # Set the intercept\n",
    "\n",
    "    return reg\n",
    "\n",
    "# Train the model using your training data\n",
    "trained_model = train_model(X_train, y_train)\n",
    "\n",
    "# Save the trained model to use later\n",
    "joblib.dump(trained_model, 'trained_model.pkl')\n"
   ]
  },
  {
   "cell_type": "markdown",
   "id": "aae9e819",
   "metadata": {
    "papermill": {
     "duration": 0.020822,
     "end_time": "2023-08-31T15:48:13.598234",
     "exception": false,
     "start_time": "2023-08-31T15:48:13.577412",
     "status": "completed"
    },
    "tags": []
   },
   "source": [
    "# This is a trial to input the data of your compound and it will predict AlogP for you\n",
    "Just remove the comments (''')  and run it"
   ]
  },
  {
   "cell_type": "code",
   "execution_count": 12,
   "id": "9b2d040c",
   "metadata": {
    "execution": {
     "iopub.execute_input": "2023-08-31T15:48:13.639914Z",
     "iopub.status.busy": "2023-08-31T15:48:13.639542Z",
     "iopub.status.idle": "2023-08-31T15:48:13.647569Z",
     "shell.execute_reply": "2023-08-31T15:48:13.646551Z"
    },
    "papermill": {
     "duration": 0.032476,
     "end_time": "2023-08-31T15:48:13.652300",
     "exception": false,
     "start_time": "2023-08-31T15:48:13.619824",
     "status": "completed"
    },
    "tags": []
   },
   "outputs": [
    {
     "data": {
      "text/plain": [
       "'\\n# Function to input feature values and predict A log P\\ndef predict_A_log_P(model):\\n    print(\"Enter the feature values for the molecule:\")\\n    try:\\n        Molecular_Weight = float(input(\"Molecular Weight: \"))\\n        Polar_Surface_Area = float(input(\"Polar Surface Area: \"))\\n        HBD = int(input(\"Number of H-Bond Donors: \"))\\n        HBA = int(input(\"Number of H-Bond Acceptors: \"))\\n        Rotatable_Bonds = int(input(\"Number of Rotatable Bonds: \"))\\n        Aromatic_Rings = int(input(\"Number of Aromatic Rings: \"))\\n        Heavy_Atoms = float(input(\"Number of Heavy Atoms: \"))\\n    except ValueError:\\n        print(\"Invalid input. Please enter valid numeric values for all features.\")\\n        return\\n\\n    # Create a feature vector from user inputs\\n    feature_vector = np.array([[Molecular_Weight, Polar_Surface_Area, HBD, HBA, Rotatable_Bonds, Aromatic_Rings, Heavy_Atoms]])\\n\\n    # Predict A log P using the provided model\\n    predicted_A_log_P = model.predict(feature_vector)\\n\\n    print(f\"Predicted A log P: {predicted_A_log_P[0][0]:.2f} \")\\n\\n# Call the predict_A_log_P function with your trained model\\npredict_A_log_P(trained_model)\\n'"
      ]
     },
     "execution_count": 12,
     "metadata": {},
     "output_type": "execute_result"
    }
   ],
   "source": [
    "'''\n",
    "# Function to input feature values and predict A log P\n",
    "def predict_A_log_P(model):\n",
    "    print(\"Enter the feature values for the molecule:\")\n",
    "    try:\n",
    "        Molecular_Weight = float(input(\"Molecular Weight: \"))\n",
    "        Polar_Surface_Area = float(input(\"Polar Surface Area: \"))\n",
    "        HBD = int(input(\"Number of H-Bond Donors: \"))\n",
    "        HBA = int(input(\"Number of H-Bond Acceptors: \"))\n",
    "        Rotatable_Bonds = int(input(\"Number of Rotatable Bonds: \"))\n",
    "        Aromatic_Rings = int(input(\"Number of Aromatic Rings: \"))\n",
    "        Heavy_Atoms = float(input(\"Number of Heavy Atoms: \"))\n",
    "    except ValueError:\n",
    "        print(\"Invalid input. Please enter valid numeric values for all features.\")\n",
    "        return\n",
    "\n",
    "    # Create a feature vector from user inputs\n",
    "    feature_vector = np.array([[Molecular_Weight, Polar_Surface_Area, HBD, HBA, Rotatable_Bonds, Aromatic_Rings, Heavy_Atoms]])\n",
    "\n",
    "    # Predict A log P using the provided model\n",
    "    predicted_A_log_P = model.predict(feature_vector)\n",
    "\n",
    "    print(f\"Predicted A log P: {predicted_A_log_P[0][0]:.2f} \")\n",
    "\n",
    "# Call the predict_A_log_P function with your trained model\n",
    "predict_A_log_P(trained_model)\n",
    "'''"
   ]
  }
 ],
 "kernelspec": {
  "display_name": "Python 3",
  "language": "python",
  "name": "python3"
 },
 "language_info": {
  "codemirror_mode": {
   "name": "ipython",
   "version": 3
  },
  "file_extension": ".py",
  "mimetype": "text/x-python",
  "name": "python",
  "nbconvert_exporter": "python",
  "pygments_lexer": "ipython3",
  "version": "3.6.4"
 },
 "metadata": {
  "kernelspec": {
   "display_name": "Python 3",
   "language": "python",
   "name": "python3"
  },
  "language_info": {
   "codemirror_mode": {
    "name": "ipython",
    "version": 3
   },
   "file_extension": ".py",
   "mimetype": "text/x-python",
   "name": "python",
   "nbconvert_exporter": "python",
   "pygments_lexer": "ipython3",
   "version": "3.10.12"
  },
  "papermill": {
   "default_parameters": {},
   "duration": 214.536871,
   "end_time": "2023-08-31T15:48:16.093499",
   "environment_variables": {},
   "exception": null,
   "input_path": "__notebook__.ipynb",
   "output_path": "__notebook__.ipynb",
   "parameters": {},
   "start_time": "2023-08-31T15:44:41.556628",
   "version": "2.4.0"
  }
 },
 "nbformat": 4,
 "nbformat_minor": 5
}
