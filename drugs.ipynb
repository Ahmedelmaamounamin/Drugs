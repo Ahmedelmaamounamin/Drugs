{
 "cells": [
  {
   "cell_type": "code",
   "execution_count": 1,
   "id": "943707e4",
   "metadata": {
    "_execution_state": "idle",
    "_uuid": "051d70d956493feee0c6d64651c6a088724dca2a",
    "execution": {
     "iopub.execute_input": "2023-05-18T16:41:54.468373Z",
     "iopub.status.busy": "2023-05-18T16:41:54.467982Z",
     "iopub.status.idle": "2023-05-18T16:41:54.479676Z",
     "shell.execute_reply": "2023-05-18T16:41:54.478436Z"
    },
    "papermill": {
     "duration": 0.024186,
     "end_time": "2023-05-18T16:41:54.481933",
     "exception": false,
     "start_time": "2023-05-18T16:41:54.457747",
     "status": "completed"
    },
    "tags": []
   },
   "outputs": [],
   "source": [
    "import pandas as pd"
   ]
  },
  {
   "cell_type": "code",
   "execution_count": 2,
   "id": "62f5a14e",
   "metadata": {
    "execution": {
     "iopub.execute_input": "2023-05-18T16:41:54.499748Z",
     "iopub.status.busy": "2023-05-18T16:41:54.499299Z",
     "iopub.status.idle": "2023-05-18T16:42:10.421397Z",
     "shell.execute_reply": "2023-05-18T16:42:10.420227Z"
    },
    "papermill": {
     "duration": 15.93426,
     "end_time": "2023-05-18T16:42:10.424291",
     "exception": false,
     "start_time": "2023-05-18T16:41:54.490031",
     "status": "completed"
    },
    "tags": []
   },
   "outputs": [],
   "source": [
    "df = pd.read_csv(\"/kaggle/input/most-drugs/All Drugs.csv\", on_bad_lines='skip') #upload all compounds CSV"
   ]
  },
  {
   "cell_type": "code",
   "execution_count": 3,
   "id": "795701bf",
   "metadata": {
    "execution": {
     "iopub.execute_input": "2023-05-18T16:42:10.442889Z",
     "iopub.status.busy": "2023-05-18T16:42:10.441677Z",
     "iopub.status.idle": "2023-05-18T16:42:37.577827Z",
     "shell.execute_reply": "2023-05-18T16:42:37.576425Z"
    },
    "papermill": {
     "duration": 27.148105,
     "end_time": "2023-05-18T16:42:37.580439",
     "exception": false,
     "start_time": "2023-05-18T16:42:10.432334",
     "status": "completed"
    },
    "tags": []
   },
   "outputs": [
    {
     "name": "stderr",
     "output_type": "stream",
     "text": [
      "/tmp/ipykernel_20/1853848367.py:1: DtypeWarning: Columns (27) have mixed types. Specify dtype option on import or set low_memory=False.\n",
      "  df = pd.read_csv(\"/kaggle/input/most-drugs/All Drugs.csv\", on_bad_lines='skip', sep=\";\") #Print the name of the header in the file\n"
     ]
    },
    {
     "name": "stdout",
     "output_type": "stream",
     "text": [
      "Index(['ChEMBL ID', 'Name', 'Synonyms', 'Type', 'Max Phase',\n",
      "       'Molecular Weight', 'Targets', 'Bioactivities', 'AlogP',\n",
      "       'Polar Surface Area', 'HBA', 'HBD', '#RO5 Violations',\n",
      "       '#Rotatable Bonds', 'Passes Ro3', 'QED Weighted', 'CX Acidic pKa',\n",
      "       'CX Basic pKa', 'CX LogP', 'CX LogD', 'Aromatic Rings',\n",
      "       'Structure Type', 'Inorganic Flag', 'Heavy Atoms', 'HBA (Lipinski)',\n",
      "       'HBD (Lipinski)', '#RO5 Violations (Lipinski)',\n",
      "       'Molecular Weight (Monoisotopic)', 'Np Likeness Score',\n",
      "       'Molecular Species', 'Molecular Formula', 'Smiles', 'Inchi Key'],\n",
      "      dtype='object')\n"
     ]
    }
   ],
   "source": [
    "df = pd.read_csv(\"/kaggle/input/most-drugs/All Drugs.csv\", on_bad_lines='skip', sep=\";\") #Print the name of the header in the file\n",
    "print(df.columns)"
   ]
  },
  {
   "cell_type": "code",
   "execution_count": 4,
   "id": "3d1eb972",
   "metadata": {
    "execution": {
     "iopub.execute_input": "2023-05-18T16:42:37.598580Z",
     "iopub.status.busy": "2023-05-18T16:42:37.598179Z",
     "iopub.status.idle": "2023-05-18T16:42:37.615737Z",
     "shell.execute_reply": "2023-05-18T16:42:37.614778Z"
    },
    "papermill": {
     "duration": 0.029688,
     "end_time": "2023-05-18T16:42:37.618355",
     "exception": false,
     "start_time": "2023-05-18T16:42:37.588667",
     "status": "completed"
    },
    "tags": []
   },
   "outputs": [],
   "source": [
    "df[\"Max Phase\"].fillna(-1, inplace=True) #combine all priclinical together"
   ]
  },
  {
   "cell_type": "code",
   "execution_count": 5,
   "id": "6c8cbd9d",
   "metadata": {
    "execution": {
     "iopub.execute_input": "2023-05-18T16:42:37.636275Z",
     "iopub.status.busy": "2023-05-18T16:42:37.635889Z",
     "iopub.status.idle": "2023-05-18T16:42:37.913252Z",
     "shell.execute_reply": "2023-05-18T16:42:37.911799Z"
    },
    "papermill": {
     "duration": 0.2894,
     "end_time": "2023-05-18T16:42:37.915885",
     "exception": false,
     "start_time": "2023-05-18T16:42:37.626485",
     "status": "completed"
    },
    "tags": []
   },
   "outputs": [
    {
     "name": "stdout",
     "output_type": "stream",
     "text": [
      "Type\n",
      "Antibody            504.450000\n",
      "Cell                       NaN\n",
      "Enzyme                     NaN\n",
      "Gene                       NaN\n",
      "Oligonucleotide    8059.125088\n",
      "Oligosaccharide    1539.738372\n",
      "Protein            1385.289266\n",
      "Small molecule      418.470848\n",
      "Unknown             454.007363\n",
      "Name: Molecular Weight, dtype: float64\n"
     ]
    }
   ],
   "source": [
    "average_mwt_type = df.groupby('Type')['Molecular Weight'].mean() #Avergae Mwt of drugs based on the type\n",
    "\n",
    "print(average_mwt_type)"
   ]
  },
  {
   "cell_type": "code",
   "execution_count": 6,
   "id": "fd4331e5",
   "metadata": {
    "execution": {
     "iopub.execute_input": "2023-05-18T16:42:37.934674Z",
     "iopub.status.busy": "2023-05-18T16:42:37.933900Z",
     "iopub.status.idle": "2023-05-18T16:42:38.184272Z",
     "shell.execute_reply": "2023-05-18T16:42:38.182739Z"
    },
    "papermill": {
     "duration": 0.262597,
     "end_time": "2023-05-18T16:42:38.186752",
     "exception": false,
     "start_time": "2023-05-18T16:42:37.924155",
     "status": "completed"
    },
    "tags": []
   },
   "outputs": [
    {
     "name": "stdout",
     "output_type": "stream",
     "text": [
      "4194\n",
      "0.1780918187743767\n",
      "1735\n",
      "0.07367413103804091\n",
      "2474\n",
      "0.10505463987787503\n",
      "1595\n",
      "0.06772924438367449\n",
      "29\n",
      "0.0012314408069758998\n",
      "2344938\n",
      "99.57421872511905\n"
     ]
    }
   ],
   "source": [
    "count_approved = df['Max Phase'].value_counts().get(4, 0) #count number of approved drugs\n",
    "print(count_approved)\n",
    " \n",
    "percentage_approved = (count_approved / len(df)) * 100   #calcualte percentage of approved drugs\n",
    "print(percentage_approved)\n",
    "\n",
    "count_phase_3 = df['Max Phase'].value_counts().get(3, 0) #count number of phase 3 drugs\n",
    "print(count_phase_3)\n",
    " \n",
    "percentage_phase_3 = (count_phase_3 / len(df)) * 100   #calcualte percentage of phase 3 drugs\n",
    "print(percentage_phase_3)\n",
    "\n",
    "count_phase_2 = df['Max Phase'].value_counts().get(2, 0) #count number of phase 2 drugs\n",
    "print(count_phase_2)\n",
    " \n",
    "percentage_phase_2 = (count_phase_2 / len(df)) * 100   #calcualte percentage of phase 2 drugs\n",
    "print(percentage_phase_2)\n",
    "\n",
    "count_phase_1 = df['Max Phase'].value_counts().get(1, 0) #count number of phase 1 drugs\n",
    "print(count_phase_1)\n",
    " \n",
    "percentage_phase_1 = (count_phase_1 / len(df)) * 100   #calcualte percentage of phase 1 drugs\n",
    "print(percentage_phase_1)\n",
    "\n",
    "count_early_phase_1 = df['Max Phase'].value_counts().get(0.5, 0) #count number of Early phase 1 drugs\n",
    "print(count_early_phase_1)\n",
    " \n",
    "percentage_early_phase_1 = (count_early_phase_1 / len(df)) * 100   #calcualte percentage of Early phase 1 drugs\n",
    "print(percentage_early_phase_1)\n",
    "\n",
    "count_pri = df['Max Phase'].value_counts().get(-1, 0) #count number of priclinical drugs\n",
    "print(count_pri)\n",
    " \n",
    "percentage_pri = (count_pri / len(df)) * 100   #calcualte percentage of priclinical drugs\n",
    "print(percentage_pri)"
   ]
  },
  {
   "cell_type": "code",
   "execution_count": 7,
   "id": "381ab84c",
   "metadata": {
    "execution": {
     "iopub.execute_input": "2023-05-18T16:42:38.205340Z",
     "iopub.status.busy": "2023-05-18T16:42:38.204928Z",
     "iopub.status.idle": "2023-05-18T16:42:38.272691Z",
     "shell.execute_reply": "2023-05-18T16:42:38.271436Z"
    },
    "papermill": {
     "duration": 0.080506,
     "end_time": "2023-05-18T16:42:38.275687",
     "exception": false,
     "start_time": "2023-05-18T16:42:38.195181",
     "status": "completed"
    },
    "tags": []
   },
   "outputs": [
    {
     "name": "stdout",
     "output_type": "stream",
     "text": [
      "Max Phase\n",
      "-1.0    433.736497\n",
      " 0.5    443.548696\n",
      " 1.0    497.091703\n",
      " 2.0    482.306748\n",
      " 3.0    513.281207\n",
      " 4.0    448.204846\n",
      "Name: Molecular Weight, dtype: float64\n"
     ]
    }
   ],
   "source": [
    "avg_mol_weight = df.groupby('Max Phase')['Molecular Weight'].mean() #Avergae Mwt of drugs based on the Phase\n",
    "\n",
    "print(avg_mol_weight)\n"
   ]
  },
  {
   "cell_type": "code",
   "execution_count": 8,
   "id": "9c72d958",
   "metadata": {
    "execution": {
     "iopub.execute_input": "2023-05-18T16:42:38.294629Z",
     "iopub.status.busy": "2023-05-18T16:42:38.294230Z",
     "iopub.status.idle": "2023-05-18T16:42:38.351673Z",
     "shell.execute_reply": "2023-05-18T16:42:38.349922Z"
    },
    "papermill": {
     "duration": 0.07003,
     "end_time": "2023-05-18T16:42:38.354303",
     "exception": false,
     "start_time": "2023-05-18T16:42:38.284273",
     "status": "completed"
    },
    "tags": []
   },
   "outputs": [
    {
     "name": "stdout",
     "output_type": "stream",
     "text": [
      "             ChEMBL ID                      Name  \\\n",
      "795      CHEMBL1201060    LOXAPINE HYDROCHLORIDE   \n",
      "2579     CHEMBL2096648                 UREA C 13   \n",
      "10044    CHEMBL1200366  CEPHALEXIN HYDROCHLORIDE   \n",
      "10093    CHEMBL2104136       CLOMACRAN PHOSPHATE   \n",
      "10166    CHEMBL1200387       AMPHETAMINE ADIPATE   \n",
      "...                ...                       ...   \n",
      "2354943     CHEMBL1518          PROPYLTHIOURACIL   \n",
      "2354952      CHEMBL101            PHENYLBUTAZONE   \n",
      "2354955      CHEMBL530              AMDINOCILLIN   \n",
      "2354956  CHEMBL1697838                 GLYMIDINE   \n",
      "2354960      CHEMBL535                 SUNITINIB   \n",
      "\n",
      "                                                  Synonyms            Type  \\\n",
      "795      LOXAPINE HCL|LOXAPINE HYDROCHLORIDE|LOXITANE C...  Small molecule   \n",
      "2579     (13C) UREA|13-C UREA|13-C-UREA|13C-UREA|BREATH...  Small molecule   \n",
      "10044    CEFALEXIN HYDROCHLORIDE|CEPHALEXIN HCL|CEPHALE...  Small molecule   \n",
      "10093    CLOMACRAN PHOSPHATE|Devryl|Olaxin|SK&F 14336|S...  Small molecule   \n",
      "10166              AMPHETAMINE ADIPATE|Amphetamine adipate  Small molecule   \n",
      "...                                                    ...             ...   \n",
      "2354943  NSC-6498|NSC-70461|PROPYLTHIOURACIL|Propacil|P...  Small molecule   \n",
      "2354952  AMBENE|ARTRIZIN|Antadol|Azolid|BIZOLIN|BUTACOT...  Small molecule   \n",
      "2354955  AMDINOCILLIN|Coactin|FL 1060|FL-1060|MECILLINA...  Small molecule   \n",
      "2354956   GLIDIAZINE|GLYCODIAZINE|GLYMIDINE|GONDAFON|REDUL  Small molecule   \n",
      "2354960  NSC-736511|NSC-750690|SU-011248|SU-11248|SU011...  Small molecule   \n",
      "\n",
      "         Max Phase  Molecular Weight  Targets  Bioactivities  AlogP  \\\n",
      "795            4.0            364.28      NaN            NaN   3.77   \n",
      "2579           4.0             61.05      NaN            NaN  -0.98   \n",
      "10044          4.0            401.87      NaN            NaN   0.44   \n",
      "10093          4.0            398.83      NaN            NaN   4.87   \n",
      "10166          4.0            281.35      NaN            NaN   1.58   \n",
      "...            ...               ...      ...            ...    ...   \n",
      "2354943        4.0            170.24    150.0         1995.0   1.38   \n",
      "2354952        4.0            308.38    181.0         2715.0   3.79   \n",
      "2354955        4.0            325.43     19.0           50.0   1.41   \n",
      "2354956        4.0            309.35      3.0            5.0   1.30   \n",
      "2354960        4.0            398.48   1194.0         3838.0   3.33   \n",
      "\n",
      "        Polar Surface Area  ... Heavy Atoms HBA (Lipinski) HBD (Lipinski)  \\\n",
      "795                  28.07  ...          23              4              0   \n",
      "2579                 69.11  ...           4              3              4   \n",
      "10044               112.73  ...          24              7              4   \n",
      "10093                15.27  ...          21              2              1   \n",
      "10166                26.02  ...          10              1              2   \n",
      "...                    ...  ...         ...            ...            ...   \n",
      "2354943              48.65  ...          11              3              2   \n",
      "2354952              40.62  ...          23              4              0   \n",
      "2354955              73.21  ...          22              6              1   \n",
      "2354956              90.41  ...          21              7              1   \n",
      "2354960              77.23  ...          29              6              3   \n",
      "\n",
      "        #RO5 Violations (Lipinski) Molecular Weight (Monoisotopic)  \\\n",
      "795                              0                        327.1138   \n",
      "2579                             0                         60.0324   \n",
      "10044                            0                         347.094   \n",
      "10093                            0                        300.1393   \n",
      "10166                            0                        135.1048   \n",
      "...                            ...                             ...   \n",
      "2354943                          0                        170.0514   \n",
      "2354952                          0                        308.1525   \n",
      "2354955                          0                         325.146   \n",
      "2354956                          0                        309.0783   \n",
      "2354960                          0                        398.2118   \n",
      "\n",
      "        Np Likeness Score Molecular Species Molecular Formula  \\\n",
      "795                 -0.75           NEUTRAL      C18H19Cl2N3O   \n",
      "2579                -0.22           NEUTRAL            CH4N2O   \n",
      "10044                0.27              ACID     C16H20ClN3O5S   \n",
      "10093               -0.59              BASE     C18H24ClN2O4P   \n",
      "10166               -0.02              BASE         C15H23NO4   \n",
      "...                   ...               ...               ...   \n",
      "2354943             -0.95           NEUTRAL         C7H10N2OS   \n",
      "2354952              0.13              ACID        C19H20N2O2   \n",
      "2354955              0.38              ACID       C15H23N3O3S   \n",
      "2354956             -1.63           NEUTRAL       C13H15N3O4S   \n",
      "2354960             -1.21              BASE       C22H27FN4O2   \n",
      "\n",
      "                                                    Smiles  \\\n",
      "795               CN1CCN(C2=Nc3ccccc3Oc3ccc(Cl)cc32)CC1.Cl   \n",
      "2579                                           N[13C](N)=O   \n",
      "10044    CC1=C(C(=O)O)N2C(=O)[C@@H](NC(=O)[C@H](N)c3ccc...   \n",
      "10093          CN(C)CCCC1c2ccccc2Nc2ccc(Cl)cc21.O=P(O)(O)O   \n",
      "10166                      CC(N)Cc1ccccc1.O=C(O)CCCCC(=O)O   \n",
      "...                                                    ...   \n",
      "2354943                          CCCc1cc(=O)[nH]c(=S)[nH]1   \n",
      "2354952              CCCCC1C(=O)N(c2ccccc2)N(c2ccccc2)C1=O   \n",
      "2354955  CC1(C)S[C@@H]2[C@H](/N=C/N3CCCCCC3)C(=O)N2[C@H...   \n",
      "2354956                  COCCOc1cnc(NS(=O)(=O)c2ccccc2)nc1   \n",
      "2354960  CCN(CC)CCNC(=O)c1c(C)[nH]c(/C=C2\\C(=O)Nc3ccc(F...   \n",
      "\n",
      "                           Inchi Key  \n",
      "795      JSXBVMKACNEMKY-UHFFFAOYSA-N  \n",
      "2579     XSQUKJJJFZCRTK-OUBTZVSYSA-N  \n",
      "10044    YHJDZIQOCSDIQU-OEDJVVDHSA-N  \n",
      "10093    SKKDWRIEPIZVOR-UHFFFAOYSA-N  \n",
      "10166    OFCJKOOVFDGTLY-UHFFFAOYSA-N  \n",
      "...                              ...  \n",
      "2354943  KNAHARQHSZJURB-UHFFFAOYSA-N  \n",
      "2354952  VYMDGNCVAMGZFE-UHFFFAOYSA-N  \n",
      "2354955  BWWVAEOLVKTZFQ-ISVUSNJMSA-N  \n",
      "2354956  QFWPJPIVLCBXFJ-UHFFFAOYSA-N  \n",
      "2354960  WINHZLLDWRZWRT-ATVHPVEESA-N  \n",
      "\n",
      "[4194 rows x 33 columns]\n"
     ]
    }
   ],
   "source": [
    "df_approved = df[df['Max Phase'] == 4] #Approved drugs from FDA\n",
    "print(df_approved)"
   ]
  },
  {
   "cell_type": "code",
   "execution_count": 9,
   "id": "2090852d",
   "metadata": {
    "execution": {
     "iopub.execute_input": "2023-05-18T16:42:38.374393Z",
     "iopub.status.busy": "2023-05-18T16:42:38.373989Z",
     "iopub.status.idle": "2023-05-18T16:42:38.397040Z",
     "shell.execute_reply": "2023-05-18T16:42:38.395544Z"
    },
    "papermill": {
     "duration": 0.035932,
     "end_time": "2023-05-18T16:42:38.399439",
     "exception": false,
     "start_time": "2023-05-18T16:42:38.363507",
     "status": "completed"
    },
    "tags": []
   },
   "outputs": [
    {
     "name": "stdout",
     "output_type": "stream",
     "text": [
      "433.8559150306472\n"
     ]
    }
   ],
   "source": [
    "average_approved = df['Molecular Weight'].mean()#Average Mwt. of Approved drugs\n",
    "print(average_approved)"
   ]
  },
  {
   "cell_type": "code",
   "execution_count": 10,
   "id": "4ca8a654",
   "metadata": {
    "collapsed": true,
    "execution": {
     "iopub.execute_input": "2023-05-18T16:42:38.419692Z",
     "iopub.status.busy": "2023-05-18T16:42:38.418569Z",
     "iopub.status.idle": "2023-05-18T16:42:38.450043Z",
     "shell.execute_reply": "2023-05-18T16:42:38.449177Z"
    },
    "jupyter": {
     "outputs_hidden": true
    },
    "papermill": {
     "duration": 0.04522,
     "end_time": "2023-05-18T16:42:38.453570",
     "exception": false,
     "start_time": "2023-05-18T16:42:38.408350",
     "status": "completed"
    },
    "tags": []
   },
   "outputs": [
    {
     "name": "stdout",
     "output_type": "stream",
     "text": [
      "             ChEMBL ID                         Name  \\\n",
      "691      CHEMBL3039533                  GRAZOPREVIR   \n",
      "211565   CHEMBL4297324         REMIMAZOLAM TOSYLATE   \n",
      "212355   CHEMBL4297424               RUBIDIUM RB-82   \n",
      "222540    CHEMBL545437      AMIBEGRON HYDROCHLORIDE   \n",
      "516897   CHEMBL4297407              ALTROPANE I-123   \n",
      "...                ...                          ...   \n",
      "2354931  CHEMBL4298063  CILIARY NEUROTROPHIC FACTOR   \n",
      "2354932  CHEMBL4298075                 PROPOLIS WAX   \n",
      "2354935  CHEMBL4298085                    FIANLIMAB   \n",
      "2354939  CHEMBL4298098       TUSAMITAMAB RAVTANSINE   \n",
      "2354945    CHEMBL46618                   OTAMIXABAN   \n",
      "\n",
      "                                                  Synonyms            Type  \\\n",
      "691                                            GRAZOPREVIR  Small molecule   \n",
      "211565           REMIMAZOLAM TOSILATE|REMIMAZOLAM TOSYLATE  Small molecule   \n",
      "212355   RUBIDIUM (82 RB)|RUBIDIUM (RB-82)|RUBIDIUM RB-...  Small molecule   \n",
      "222540   AMIBEGRON HCL|Amibegron hydrochloride|SR-58611...  Small molecule   \n",
      "516897   (123I)ALTROPANE|123I-ALTROPANE|ALTROPANE I-123...  Small molecule   \n",
      "...                                                    ...             ...   \n",
      "2354931  CILIARY NEUROTROPHIC FACTOR|HUMAN CILIARY NEUR...         Unknown   \n",
      "2354932  BEE PROPOLIS|FENGJIAO|PROPOLIS|PROPOLIS CERA|P...  Small molecule   \n",
      "2354935                       FIANLIMAB|REGN-3767|REGN3767        Antibody   \n",
      "2354939  MAYTANSIN-LOADED ANTI-CEACAM5 MAB|SAR 408701|S...        Antibody   \n",
      "2354945  FXV-673|FXV673|OTAMIXABAN|RPR-130673|RPR130673...  Small molecule   \n",
      "\n",
      "         Max Phase  Molecular Weight  Targets  Bioactivities AlogP  \\\n",
      "691            3.0            784.93      NaN            NaN  3.30   \n",
      "211565         3.0            611.52      NaN            NaN  4.18   \n",
      "212355         3.0             81.92      NaN            NaN  None   \n",
      "222540         3.0            440.37      4.0           10.0  3.46   \n",
      "516897         3.0            425.27      NaN            NaN  3.88   \n",
      "...            ...               ...      ...            ...   ...   \n",
      "2354931        3.0               NaN      NaN            NaN   NaN   \n",
      "2354932        3.0               NaN      NaN            NaN   NaN   \n",
      "2354935        3.0               NaN      NaN            NaN   NaN   \n",
      "2354939        3.0               NaN      NaN            NaN   NaN   \n",
      "2354945        3.0            446.51     11.0           40.0  2.42   \n",
      "\n",
      "        Polar Surface Area  ... Heavy Atoms HBA (Lipinski) HBD (Lipinski)  \\\n",
      "691                 195.22  ...          54             15              3   \n",
      "211565               69.37  ...          28              6              0   \n",
      "212355                None  ...        None           None           None   \n",
      "222540               67.79  ...          28              5              2   \n",
      "516897               29.54  ...          23              3              0   \n",
      "...                    ...  ...         ...            ...            ...   \n",
      "2354931                NaN  ...         NaN            NaN            NaN   \n",
      "2354932                NaN  ...         NaN            NaN            NaN   \n",
      "2354935                NaN  ...         NaN            NaN            NaN   \n",
      "2354939                NaN  ...         NaN            NaN            NaN   \n",
      "2354945             132.21  ...          33              8              4   \n",
      "\n",
      "        #RO5 Violations (Lipinski) Molecular Weight (Monoisotopic)  \\\n",
      "691                              2                         766.336   \n",
      "211565                           0                        438.0691   \n",
      "212355                        None                         84.9118   \n",
      "222540                           0                         403.155   \n",
      "516897                           0                        429.0601   \n",
      "...                            ...                             ...   \n",
      "2354931                        NaN                             NaN   \n",
      "2354932                        NaN                             NaN   \n",
      "2354935                        NaN                             NaN   \n",
      "2354939                        NaN                             NaN   \n",
      "2354945                          0                        446.1954   \n",
      "\n",
      "        Np Likeness Score Molecular Species Molecular Formula  \\\n",
      "691                  0.23              ACID      C38H52N6O10S   \n",
      "211565              -0.59           NEUTRAL     C28H27BrN4O5S   \n",
      "212355               None              None                Rb   \n",
      "222540              -0.80              BASE      C22H27Cl2NO4   \n",
      "516897               0.19           NEUTRAL       C18H21FINO2   \n",
      "...                   ...               ...               ...   \n",
      "2354931               NaN               NaN               NaN   \n",
      "2354932               NaN               NaN               NaN   \n",
      "2354935               NaN               NaN               NaN   \n",
      "2354939               NaN               NaN               NaN   \n",
      "2354945             -0.33              BASE        C25H26N4O4   \n",
      "\n",
      "                                                    Smiles  \\\n",
      "691      C=C[C@@H]1C[C@]1(NC(=O)[C@@H]1C[C@@H]2CN1C(=O)...   \n",
      "211565   COC(=O)CC[C@@H]1N=C(c2ccccn2)c2cc(Br)ccc2-n2c(...   \n",
      "212355                                              [82Rb]   \n",
      "222540   CCOC(=O)COc1ccc2c(c1)C[C@@H](NC[C@H](O)c1cccc(...   \n",
      "516897   COC(=O)[C@H]1[C@@H](c2ccc(F)cc2)C[C@@H]2CC[C@H...   \n",
      "...                                                    ...   \n",
      "2354931                                                NaN   \n",
      "2354932                                                NaN   \n",
      "2354935                                                NaN   \n",
      "2354939                                                NaN   \n",
      "2354945  COC(=O)[C@H](Cc1cccc(C(=N)N)c1)[C@@H](C)NC(=O)...   \n",
      "\n",
      "                           Inchi Key  \n",
      "691      RXSARIJMSJWJLZ-CIAYNJNFSA-N  \n",
      "211565   UNLWPYSYFQLJSV-LMOVPXPDSA-N  \n",
      "212355   IGLNJRXAVVLDKE-OIOBTWANSA-N  \n",
      "222540   NQIZCDQCNYCVAS-RQBPZYBGSA-N  \n",
      "516897   GTQLIPQFXVKRKJ-HYRAKNMCSA-N  \n",
      "...                              ...  \n",
      "2354931                          NaN  \n",
      "2354932                          NaN  \n",
      "2354935                          NaN  \n",
      "2354939                          NaN  \n",
      "2354945  PFGVNLZDWRZPJW-OPAMFIHVSA-N  \n",
      "\n",
      "[1735 rows x 33 columns]\n"
     ]
    }
   ],
   "source": [
    "df_pahse3 = df[df['Max Phase'] == 3] #phase 3 drugs\n",
    "print(df_pahse3)"
   ]
  },
  {
   "cell_type": "code",
   "execution_count": 11,
   "id": "8381aeaa",
   "metadata": {
    "collapsed": true,
    "execution": {
     "iopub.execute_input": "2023-05-18T16:42:38.474503Z",
     "iopub.status.busy": "2023-05-18T16:42:38.473755Z",
     "iopub.status.idle": "2023-05-18T16:42:38.507187Z",
     "shell.execute_reply": "2023-05-18T16:42:38.505598Z"
    },
    "jupyter": {
     "outputs_hidden": true
    },
    "papermill": {
     "duration": 0.046966,
     "end_time": "2023-05-18T16:42:38.510058",
     "exception": false,
     "start_time": "2023-05-18T16:42:38.463092",
     "status": "completed"
    },
    "tags": []
   },
   "outputs": [
    {
     "name": "stdout",
     "output_type": "stream",
     "text": [
      "             ChEMBL ID                              Name  \\\n",
      "10242    CHEMBL2104992              VESTIPITANT MESYLATE   \n",
      "11662    CHEMBL3989805           ELZASONAN HYDROCHLORIDE   \n",
      "23802    CHEMBL3989793                    SODIUM SULFIDE   \n",
      "106304   CHEMBL4297390                      NM-404 I-124   \n",
      "109155   CHEMBL4650282                          DS-1001B   \n",
      "...                ...                               ...   \n",
      "2354936  CHEMBL4298089                      CODRITUZUMAB   \n",
      "2354937  CHEMBL4298090                  SIMLUKAFUSP ALFA   \n",
      "2354938  CHEMBL4298095                         NIMACIMAB   \n",
      "2354957  CHEMBL4650343                       IZENCITINIB   \n",
      "2354964  CHEMBL4650424  SVN53-67/M57-KLH PEPTIDE VACCINE   \n",
      "\n",
      "                                                  Synonyms            Type  \\\n",
      "10242    GW-597588B|GW-597599B|GW597588B|GW597599B|VEST...  Small molecule   \n",
      "11662    CP-448,187-01|CP-448187-01|ELZASONAN HCL|ELZAS...  Small molecule   \n",
      "23802                                       SODIUM SULFIDE  Small molecule   \n",
      "106304   (124I)-CLR1404|124I-CLR1404|CLR-1404 I-124|I-1...  Small molecule   \n",
      "109155                                            DS-1001b  Small molecule   \n",
      "...                                                    ...             ...   \n",
      "2354936                  CODRITUZUMAB|GC-33|GC33|RO5137382        Antibody   \n",
      "2354937  FAP-IL-2V|FAP-IL2V FP RO6874281|FAP-IL2v|RG-74...         Protein   \n",
      "2354938          JNJ-2463|JNJ2463|NIMACIMAB|RYI-018|RYI018        Antibody   \n",
      "2354957                         IZENCITINIB|TD-1473|TD1473  Small molecule   \n",
      "2354964           SURVAXM|SVN53-67/M57-KLH PEPTIDE VACCINE         Protein   \n",
      "\n",
      "         Max Phase  Molecular Weight  Targets  Bioactivities AlogP  \\\n",
      "10242          2.0            587.56      NaN            NaN  5.93   \n",
      "11662          2.0            484.88      NaN            NaN  4.87   \n",
      "23802          2.0            240.18      NaN            NaN  None   \n",
      "106304         2.0            634.63      NaN            NaN  8.28   \n",
      "109155         2.0            608.93      NaN            NaN  7.56   \n",
      "...            ...               ...      ...            ...   ...   \n",
      "2354936        2.0               NaN      NaN            NaN   NaN   \n",
      "2354937        2.0               NaN      NaN            NaN   NaN   \n",
      "2354938        2.0               NaN      NaN            NaN   NaN   \n",
      "2354957        2.0            402.51      NaN            NaN  3.73   \n",
      "2354964        2.0               NaN      NaN            NaN   NaN   \n",
      "\n",
      "        Polar Surface Area  ... Heavy Atoms HBA (Lipinski) HBD (Lipinski)  \\\n",
      "10242                35.58  ...          34              4              1   \n",
      "11662                26.79  ...          29              4              0   \n",
      "23802                 None  ...        None           None           None   \n",
      "106304               58.59  ...          36              5              0   \n",
      "109155               85.33  ...          35              6              1   \n",
      "...                    ...  ...         ...            ...            ...   \n",
      "2354936                NaN  ...         NaN            NaN            NaN   \n",
      "2354937                NaN  ...         NaN            NaN            NaN   \n",
      "2354938                NaN  ...         NaN            NaN            NaN   \n",
      "2354957             105.55  ...          30              8              3   \n",
      "2354964                NaN  ...         NaN            NaN            NaN   \n",
      "\n",
      "        #RO5 Violations (Lipinski) Molecular Weight (Monoisotopic)  \\\n",
      "10242                            1                        491.1808   \n",
      "11662                            0                        447.0939   \n",
      "23802                         None                         77.9516   \n",
      "106304                           2                        637.2757   \n",
      "109155                           2                        534.0316   \n",
      "...                            ...                             ...   \n",
      "2354936                        NaN                             NaN   \n",
      "2354937                        NaN                             NaN   \n",
      "2354938                        NaN                             NaN   \n",
      "2354957                          0                         402.228   \n",
      "2354964                        NaN                             NaN   \n",
      "\n",
      "        Np Likeness Score Molecular Species Molecular Formula  \\\n",
      "10242               -1.01           NEUTRAL     C24H28F7N3O4S   \n",
      "11662               -1.47           NEUTRAL     C22H24Cl3N3OS   \n",
      "23802                None              None         H18Na2O9S   \n",
      "106304               0.06              ACID       C29H53INO4P   \n",
      "109155              -0.62              ACID    C29H29Cl3FN3O4   \n",
      "...                   ...               ...               ...   \n",
      "2354936               NaN               NaN               NaN   \n",
      "2354937               NaN               NaN               NaN   \n",
      "2354938               NaN               NaN               NaN   \n",
      "2354957             -1.29           NEUTRAL          C22H26N8   \n",
      "2354964               NaN               NaN               NaN   \n",
      "\n",
      "                                                    Smiles  \\\n",
      "10242    CS(=O)(=O)O.Cc1cc(F)ccc1[C@H]1CNCCN1C(=O)N(C)[...   \n",
      "11662    CN1CCN(c2ccccc2/C=C2\\SCCN(c3ccc(Cl)c(Cl)c3)C2=...   \n",
      "23802                  O.O.O.O.O.O.O.O.O.[Na+].[Na+].[S-2]   \n",
      "106304   C[N+](C)(C)CCOP(=O)([O-])OCCCCCCCCCCCCCCCCCCc1...   \n",
      "109155   CC(C)(C)N.Cc1cn(C(=O)c2c(-c3c(Cl)cc(Cl)cc3Cl)n...   \n",
      "...                                                    ...   \n",
      "2354936                                                NaN   \n",
      "2354937                                                NaN   \n",
      "2354938                                                NaN   \n",
      "2354957  Cc1cc(Nc2cc3ncccc3c(N[C@@H]3C[C@H]4CC[C@@H](C3...   \n",
      "2354964                                                NaN   \n",
      "\n",
      "                           Inchi Key  \n",
      "10242    BHECXGHXWKHZOY-DXPOFMJKSA-N  \n",
      "11662    NMTRXBJYASHMND-UXTSPRGOSA-N  \n",
      "23802    ZGHLCBJZQLNUAZ-UHFFFAOYSA-N  \n",
      "106304   ZOAIEFWMQLYMTF-PEHXSSJGSA-N  \n",
      "109155   UPPAAWQBZQBNIE-USRGLUTNSA-N  \n",
      "...                              ...  \n",
      "2354936                          NaN  \n",
      "2354937                          NaN  \n",
      "2354938                          NaN  \n",
      "2354957  DADAEARVGOQWHV-OSYLJGHBSA-N  \n",
      "2354964                          NaN  \n",
      "\n",
      "[2474 rows x 33 columns]\n"
     ]
    }
   ],
   "source": [
    "df_pahse2 = df[df['Max Phase'] == 2] #Phase 2\n",
    "print(df_pahse2)"
   ]
  },
  {
   "cell_type": "code",
   "execution_count": 12,
   "id": "57462634",
   "metadata": {
    "collapsed": true,
    "execution": {
     "iopub.execute_input": "2023-05-18T16:42:38.531278Z",
     "iopub.status.busy": "2023-05-18T16:42:38.530445Z",
     "iopub.status.idle": "2023-05-18T16:42:38.564317Z",
     "shell.execute_reply": "2023-05-18T16:42:38.563438Z"
    },
    "jupyter": {
     "outputs_hidden": true
    },
    "papermill": {
     "duration": 0.048001,
     "end_time": "2023-05-18T16:42:38.567539",
     "exception": false,
     "start_time": "2023-05-18T16:42:38.519538",
     "status": "completed"
    },
    "tags": []
   },
   "outputs": [
    {
     "name": "stdout",
     "output_type": "stream",
     "text": [
      "             ChEMBL ID                                               Name  \\\n",
      "9920     CHEMBL2219411                        MOMELOTINIB DIHYDROCHLORIDE   \n",
      "23617    CHEMBL4297265                                            BLI-489   \n",
      "160441   CHEMBL1609430                         METHOXYAMINE HYDROCHLORIDE   \n",
      "198748   CHEMBL4594399                            D6-25-HYDROXYVITAMIN D3   \n",
      "209494   CHEMBL5095351                               SELNOFLAST POTASSIUM   \n",
      "...                ...                                                ...   \n",
      "2354944       CHEMBL99                                       TRICHOSTATIN   \n",
      "2354947  CHEMBL3545011                                            GS-9667   \n",
      "2354949  CHEMBL1181952  1,1'-METHYLENEBIS(4-((HYDROXYIMINO)METHYL)-PYR...   \n",
      "2354950  CHEMBL4650317                                        ICAPAMESPIB   \n",
      "2354963  CHEMBL4650414                                           ONO-7475   \n",
      "\n",
      "                                                  Synonyms            Type  \\\n",
      "9920     CYT-387 DIHYDROCHLORIDE|CYT387|CYT387 DIHYDROC...  Small molecule   \n",
      "23617                                      BLI 489|BLI-489  Small molecule   \n",
      "160441   METHOXYAMINE HCL|METHOXYAMINE HYDROCHLORIDE|NS...  Small molecule   \n",
      "198748              CALCIFEDIOL-D6|D6-25-HYDROXYVITAMIN D3  Small molecule   \n",
      "209494                 IZD-334|IZD334|SELNOFLAST POTASSIUM  Small molecule   \n",
      "...                                                    ...             ...   \n",
      "2354944  A-300-I|ANTIBIOTIC A-300|GNF-Pf-1011|TRICHOSTA...  Small molecule   \n",
      "2354947                          CVT 3619|CVT-3619|GS-9667  Small molecule   \n",
      "2354949                                                NaN  Small molecule   \n",
      "2354950                               ICAPAMESPIB|PU-HZ151  Small molecule   \n",
      "2354963                    ONO 7475|ONO-7475|TAMNORZATINIB         Unknown   \n",
      "\n",
      "         Max Phase  Molecular Weight  Targets  Bioactivities  AlogP  \\\n",
      "9920           1.0            487.39      NaN            NaN   2.98   \n",
      "23617          1.0            327.30      NaN            NaN   0.64   \n",
      "160441         1.0             83.52      5.0            7.0  -0.49   \n",
      "198748         1.0            406.68      NaN            NaN   6.73   \n",
      "209494         1.0            429.63      NaN            NaN   2.60   \n",
      "...            ...               ...      ...            ...    ...   \n",
      "2354944        1.0            302.37    134.0         1105.0   2.58   \n",
      "2354947        1.0            461.52      4.0           12.0   1.70   \n",
      "2354949        1.0            258.28      1.0            6.0   0.38   \n",
      "2354950        1.0            526.40      NaN            NaN   3.53   \n",
      "2354963        1.0               NaN      NaN            NaN    NaN   \n",
      "\n",
      "        Polar Surface Area  ... Heavy Atoms HBA (Lipinski) HBD (Lipinski)  \\\n",
      "9920                103.17  ...          31              8              2   \n",
      "23617                84.66  ...          21              7              1   \n",
      "160441               35.25  ...           3              2              2   \n",
      "198748               40.46  ...          29              2              2   \n",
      "209494               78.51  ...          27              6              2   \n",
      "...                    ...  ...         ...            ...            ...   \n",
      "2354944              69.64  ...          22              5              2   \n",
      "2354947             125.55  ...          32              9              4   \n",
      "2354949              72.94  ...          19              6              2   \n",
      "2354950             100.11  ...          29              8              3   \n",
      "2354963                NaN  ...         NaN            NaN            NaN   \n",
      "\n",
      "        #RO5 Violations (Lipinski) Molecular Weight (Monoisotopic)  \\\n",
      "9920                             0                        414.1804   \n",
      "23617                            0                         305.047   \n",
      "160441                           0                         47.0371   \n",
      "198748                           1                        400.3341   \n",
      "209494                           0                         391.193   \n",
      "...                            ...                             ...   \n",
      "2354944                          0                         302.163   \n",
      "2354947                          0                        461.1533   \n",
      "2354949                          0                        258.1106   \n",
      "2354950                          1                        526.0648   \n",
      "2354963                        NaN                             NaN   \n",
      "\n",
      "        Np Likeness Score Molecular Species Molecular Formula  \\\n",
      "9920                -1.88           NEUTRAL     C23H24Cl2N6O2   \n",
      "23617               -0.62              ACID     C13H10N3NaO4S   \n",
      "160441               0.17           NEUTRAL           CH6ClNO   \n",
      "198748               2.63           NEUTRAL          C27H44O2   \n",
      "209494              -0.93              ACID      C20H28KN3O3S   \n",
      "...                   ...               ...               ...   \n",
      "2354944              0.58           NEUTRAL        C17H22N2O3   \n",
      "2354947             -0.14           NEUTRAL      C21H24FN5O4S   \n",
      "2354949             -0.16           NEUTRAL      C13H14N4O2+2   \n",
      "2354950             -1.07              BASE      C19H23IN6O2S   \n",
      "2354963               NaN               NaN               NaN   \n",
      "\n",
      "                                                    Smiles  \\\n",
      "9920     Cl.Cl.N#CCNC(=O)c1ccc(-c2ccnc(Nc3ccc(N4CCOCC4)...   \n",
      "23617    O=C([O-])C1=CS[C@@H]2/C(=C\\c3cn4c(n3)COCC4)C(=...   \n",
      "160441                                              CON.Cl   \n",
      "198748   [2H]C([2H])([2H])C(O)(CCC[C@@H](C)[C@H]1CC[C@H...   \n",
      "209494   CCN1CCC(S(=O)(=O)[N-]C(=O)Nc2c3c(cc4c2CCC4)CCC...   \n",
      "...                                                    ...   \n",
      "2354944   CC(/C=C/C(=O)NO)=C\\[C@@H](C)C(=O)c1ccc(N(C)C)cc1   \n",
      "2354947  O[C@@H]1[C@H](O)[C@@H](CSc2ccccc2F)O[C@H]1n1cn...   \n",
      "2354949            O/N=C/c1cc[n+](C[n+]2ccc(/C=N/O)cc2)cc1   \n",
      "2354950    CC(C)(C)CNCCn1c(Sc2cc3c(cc2I)OCO3)nc2c(N)ncnc21   \n",
      "2354963                                                NaN   \n",
      "\n",
      "                           Inchi Key  \n",
      "9920     IPNATXQRPWRHKD-UHFFFAOYSA-N  \n",
      "23617    RFSWVJXWZXQOSW-ZDFSRXSCSA-M  \n",
      "160441   XNXVOSBNFZWHBV-UHFFFAOYSA-N  \n",
      "198748   JWUBBDSIWDLEOM-QFVHMXLQSA-N  \n",
      "209494   MKLRQXHTYFRPSC-UHFFFAOYSA-M  \n",
      "...                              ...  \n",
      "2354944  RTKIYFITIVXBLE-QEQCGCAPSA-N  \n",
      "2354947  IZRXENCTXNMAMI-DIJFLQFKSA-N  \n",
      "2354949  CMMIGIRGSXYBDN-UHFFFAOYSA-P  \n",
      "2354950  UYODNJZBUUEXPC-UHFFFAOYSA-N  \n",
      "2354963                          NaN  \n",
      "\n",
      "[1595 rows x 33 columns]\n"
     ]
    }
   ],
   "source": [
    "df_pahse1 = df[df['Max Phase'] == 1] #phase1\n",
    "print(df_pahse1)"
   ]
  },
  {
   "cell_type": "code",
   "execution_count": 13,
   "id": "44978bb9",
   "metadata": {
    "collapsed": true,
    "execution": {
     "iopub.execute_input": "2023-05-18T16:42:38.589266Z",
     "iopub.status.busy": "2023-05-18T16:42:38.588138Z",
     "iopub.status.idle": "2023-05-18T16:42:38.619489Z",
     "shell.execute_reply": "2023-05-18T16:42:38.618340Z"
    },
    "jupyter": {
     "outputs_hidden": true
    },
    "papermill": {
     "duration": 0.04664,
     "end_time": "2023-05-18T16:42:38.623694",
     "exception": false,
     "start_time": "2023-05-18T16:42:38.577054",
     "status": "completed"
    },
    "tags": []
   },
   "outputs": [
    {
     "name": "stdout",
     "output_type": "stream",
     "text": [
      "             ChEMBL ID                                               Name  \\\n",
      "1198227  CHEMBL4594411                       XENON XE-129, HYPERPOLARIZED   \n",
      "1564963  CHEMBL1964546                                 PROFLAVINE SULFATE   \n",
      "1607131   CHEMBL207456                              PITTSBURGH COMPOUND B   \n",
      "2085428  CHEMBL1790180                                       ENDOTHELIN 3   \n",
      "2095326  CHEMBL4297667                                  CITRULLINE MALATE   \n",
      "2103477   CHEMBL476413                                     JHU-75528 C-11   \n",
      "2104565  CHEMBL1185241                                       RHODAMINE 6G   \n",
      "2110543     CHEMBL1740                                     RACEPINEPHRINE   \n",
      "2114420    CHEMBL93124                              PITTSBURGH COMPOUND B   \n",
      "2260072   CHEMBL142130                                        CYPROTERONE   \n",
      "2260500    CHEMBL23194                                           SPERMINE   \n",
      "2260598  CHEMBL2088033                                             NOP-1A   \n",
      "2262249  CHEMBL4297798                                           ORYZANOL   \n",
      "2264517  CHEMBL4594361  TECHNETIUM TC-99M ETHYLENE-DICYSTEINE-DEOXYGLU...   \n",
      "2264994  CHEMBL4298069                     POLY (ADP-RIBOSE) POLYMERASE 1   \n",
      "2276613   CHEMBL514215                                          JHU-75528   \n",
      "2278243  CHEMBL1237174                                          HYDRAZINE   \n",
      "2278891      CHEMBL920                                            CHOLINE   \n",
      "2282701  CHEMBL4594545                                        ALSEVALIMAB   \n",
      "2282977     CHEMBL1158                                       PARAXANTHINE   \n",
      "2283155  CHEMBL4650515                                          CEP-40783   \n",
      "2350415  CHEMBL4297301                                  METHYL-D9-CHOLINE   \n",
      "2352862    CHEMBL31184                                 BENZO[DEF]CHRYSENE   \n",
      "2353686  CHEMBL4802264                                        EMERFETAMAB   \n",
      "2353724    CHEMBL42710                                            EUGENOL   \n",
      "2354117   CHEMBL510095                                     GINSENOSIDE RE   \n",
      "2354624  CHEMBL5095195                                     REBAUDIOSIDE M   \n",
      "2354765   CHEMBL269538                                            HARMINE   \n",
      "2354831    CHEMBL14830                              ADENOSINE DIPHOSPHATE   \n",
      "\n",
      "                                                  Synonyms             Type  \\\n",
      "1198227              HP 129XE|XENON XE-129, HYPERPOLARIZED   Small molecule   \n",
      "1564963  NSC-1510|PROFLAVIN SULFATE|PROFLAVINE SULFATE|...   Small molecule   \n",
      "1607131  (11C)PIB|PIB C-11|PITTSBURGH COMPOUND B C-11|P...   Small molecule   \n",
      "2085428                                       ENDOTHELIN 3          Protein   \n",
      "2095326  CITRULLINE MALATE|CITRULLINE MALATE (SALT)|L-C...   Small molecule   \n",
      "2103477  11C-JHU 75528|11C-OMAR|JHU-75528 C-11|OMAR C-1...   Small molecule   \n",
      "2104565  BASIC RED 1|C.I. BASIC RED 1|CI 45160|CI BASIC...   Small molecule   \n",
      "2110543  DL-ADRENALINE|EPINEPHRINE DL-FORM|EPINEPHRINE ...   Small molecule   \n",
      "2114420                                                NaN   Small molecule   \n",
      "2260072                             CYPROTERONE|NSC-758636   Small molecule   \n",
      "2260500  4,9-DIAZADODECAMETHYLENEDIAMINE|ACTILIP SP-91|...   Small molecule   \n",
      "2260598                                             NOP-1A   Small molecule   \n",
      "2262249  .GAMMA.-ORYZANOL|GAMMA ORYZANOL|GAMMA-ORYZANOL...          Unknown   \n",
      "2264517  99MTC-EC-DG|99MTC-ECDG|TECHNETIUM TC-99M ETHYL...          Unknown   \n",
      "2264994  PARP-1|PARP1|POLY (ADP-RIBOSE) POLYMERASE 1|PO...           Enzyme   \n",
      "2276613                                                NaN   Small molecule   \n",
      "2278243                          Diamine|Diazane|HYDRAZINE   Small molecule   \n",
      "2278891                                            Choline   Small molecule   \n",
      "2282701                         ALSEVALIMAB|FPA-150|FPA150         Antibody   \n",
      "2282977          NSC-400018|PARAXANTHINE|Paraxanthine(72%)   Small molecule   \n",
      "2283155                                 CEP-40783|RXDX-106          Unknown   \n",
      "2350415  2-(TRI(2H3)METHYLAMINIO)ETHANOL|J2.078.736H|ME...   Small molecule   \n",
      "2352862  BENZO[DEF]CHRYSENE|Benzo[A]-Pyrene|Benzo[A]Pyrene   Small molecule   \n",
      "2353686                        AMG 673|AMG-673|EMERFETAMAB         Antibody   \n",
      "2353724  4-ALLYLCATECHOL 2-METHYL ETHER|BIOXEDA|CARYOPH...   Small molecule   \n",
      "2354117  CHIKUSETSUSAPONIN IVC|GINSENOSIDE B2|GINSENOSI...   Small molecule   \n",
      "2354624  FEMA NO. 4895|FEMA NO. 4922|REBAUDIOSIDE M|REB...  Oligosaccharide   \n",
      "2354765                                            HARMINE   Small molecule   \n",
      "2354831                          ADENOSINE DIPHOSPHATE|ADP   Small molecule   \n",
      "\n",
      "         Max Phase  Molecular Weight  Targets  Bioactivities  AlogP  \\\n",
      "1198227        0.5            128.90      NaN            NaN   None   \n",
      "1564963        0.5            307.33     71.0          118.0   2.55   \n",
      "1607131        0.5            255.33     21.0          290.0   3.71   \n",
      "2085428        0.5           2657.12      3.0            9.0   None   \n",
      "2095326        0.5            309.27      NaN            NaN  -1.15   \n",
      "2103477        0.5            469.36      2.0            2.0   4.86   \n",
      "2104565        0.5            442.56      NaN            NaN   6.35   \n",
      "2110543        0.5            183.21     33.0          461.0   0.35   \n",
      "2114420        0.5            256.33     13.0           76.0   3.71   \n",
      "2260072        0.5            374.91     21.0           98.0   4.04   \n",
      "2260500        0.5            202.35     94.0          278.0  -0.36   \n",
      "2260598        0.5            420.53      4.0           13.0   3.50   \n",
      "2262249        0.5               NaN      NaN            NaN    NaN   \n",
      "2264517        0.5               NaN      NaN            NaN    NaN   \n",
      "2264994        0.5               NaN      NaN            NaN    NaN   \n",
      "2276613        0.5            470.36      4.0            5.0   4.86   \n",
      "2278243        0.5             32.05    109.0          692.0  -1.18   \n",
      "2278891        0.5            104.17     38.0           77.0  -0.32   \n",
      "2282701        0.5               NaN      NaN            NaN    NaN   \n",
      "2282977        0.5            180.17     28.0           44.0  -1.04   \n",
      "2283155        0.5               NaN      NaN            NaN    NaN   \n",
      "2350415        0.5            113.23      NaN            NaN  -0.32   \n",
      "2352862        0.5            252.32    188.0          387.0   5.74   \n",
      "2353686        0.5               NaN      NaN            NaN    NaN   \n",
      "2353724        0.5            164.20    203.0          553.0   2.13   \n",
      "2354117        0.5            947.17     12.0           26.0  -0.03   \n",
      "2354624        0.5           1291.30      NaN            NaN   None   \n",
      "2354765        0.5            212.25    263.0          643.0   3.03   \n",
      "2354831        0.5            427.20     62.0          174.0  -1.75   \n",
      "\n",
      "        Polar Surface Area  ... Heavy Atoms HBA (Lipinski) HBD (Lipinski)  \\\n",
      "1198227               None  ...        None           None           None   \n",
      "1564963              64.93  ...          16              3              4   \n",
      "1607131              45.15  ...          18              3              2   \n",
      "2085428               None  ...        None           None           None   \n",
      "2095326             118.44  ...          12              6              6   \n",
      "2103477              83.18  ...          32              7              1   \n",
      "2104565              63.83  ...          33              5              1   \n",
      "2110543              72.72  ...          13              4              4   \n",
      "2114420              45.15  ...          18              3              2   \n",
      "2260072              54.37  ...          26              3              1   \n",
      "2260500              76.10  ...          14              4              6   \n",
      "2260598              41.57  ...          29              4              1   \n",
      "2262249                NaN  ...         NaN            NaN            NaN   \n",
      "2264517                NaN  ...         NaN            NaN            NaN   \n",
      "2264994                NaN  ...         NaN            NaN            NaN   \n",
      "2276613              83.18  ...          32              7              1   \n",
      "2278243              52.04  ...           2              2              4   \n",
      "2278891              20.23  ...           7              2              1   \n",
      "2282701                NaN  ...         NaN            NaN            NaN   \n",
      "2282977              72.68  ...          13              6              1   \n",
      "2283155                NaN  ...         NaN            NaN            NaN   \n",
      "2350415              20.23  ...           7              2              1   \n",
      "2352862               0.00  ...          20              0              0   \n",
      "2353686                NaN  ...         NaN            NaN            NaN   \n",
      "2353724              29.46  ...          12              2              1   \n",
      "2354117             298.14  ...          66             18             12   \n",
      "2354624               None  ...        None           None           None   \n",
      "2354765              37.91  ...          16              3              1   \n",
      "2354831             232.60  ...          27             15              7   \n",
      "\n",
      "        #RO5 Violations (Lipinski) Molecular Weight (Monoisotopic)  \\\n",
      "1198227                       None                        131.9042   \n",
      "1564963                          0                        209.0953   \n",
      "1607131                          0                         256.067   \n",
      "2085428                       None                       2655.1306   \n",
      "2095326                          1                        175.0957   \n",
      "2103477                          0                        469.1072   \n",
      "2104565                          1                        442.2256   \n",
      "2110543                          0                        183.0895   \n",
      "2114420                          0                         256.067   \n",
      "2260072                          0                        374.1649   \n",
      "2260500                          1                        202.2157   \n",
      "2260598                          0                        420.1683   \n",
      "2262249                        NaN                             NaN   \n",
      "2264517                        NaN                             NaN   \n",
      "2264994                        NaN                             NaN   \n",
      "2276613                          0                        469.1072   \n",
      "2278243                          0                         32.0374   \n",
      "2278891                          0                         104.107   \n",
      "2282701                        NaN                             NaN   \n",
      "2282977                          0                        180.0647   \n",
      "2283155                        NaN                             NaN   \n",
      "2350415                          0                         104.107   \n",
      "2352862                          1                        252.0939   \n",
      "2353686                        NaN                             NaN   \n",
      "2353724                          0                        164.0837   \n",
      "2354117                          3                        946.5501   \n",
      "2354624                       None                       1290.5364   \n",
      "2354765                          0                         212.095   \n",
      "2354831                          2                        427.0294   \n",
      "\n",
      "        Np Likeness Score Molecular Species Molecular Formula  \\\n",
      "1198227              None              None                Xe   \n",
      "1564963             -0.44           NEUTRAL       C13H13N3O4S   \n",
      "1607131             -1.28           NEUTRAL        C14H12N2OS   \n",
      "2085428              None              None  C122H170N26O33S4   \n",
      "2095326              0.24        ZWITTERION        C10H19N3O8   \n",
      "2103477             -1.51           NEUTRAL     C23H21Cl2N5O2   \n",
      "2104565             -0.31           NEUTRAL        C28H30N2O3   \n",
      "2110543              1.12              BASE          C9H13NO3   \n",
      "2114420             -1.28           NEUTRAL        C14H12N2OS   \n",
      "2260072              1.88           NEUTRAL        C22H27ClO3   \n",
      "2260500              0.09              BASE          C10H26N4   \n",
      "2260598             -0.82              BASE     C22H26F2N2O2S   \n",
      "2262249               NaN               NaN               NaN   \n",
      "2264517               NaN               NaN               NaN   \n",
      "2264994               NaN               NaN               NaN   \n",
      "2276613             -1.51           NEUTRAL     C23H21Cl2N5O2   \n",
      "2278243             -0.01           NEUTRAL              H4N2   \n",
      "2278891              1.44           NEUTRAL          C5H14NO+   \n",
      "2282701               NaN               NaN               NaN   \n",
      "2282977             -0.69           NEUTRAL          C7H8N4O2   \n",
      "2283155               NaN               NaN               NaN   \n",
      "2350415              1.44           NEUTRAL          C5H14NO+   \n",
      "2352862              0.13              None            C20H12   \n",
      "2353686               NaN               NaN               NaN   \n",
      "2353724              1.05           NEUTRAL          C10H12O2   \n",
      "2354117              2.46           NEUTRAL         C48H82O18   \n",
      "2354624              None              None         C56H90O33   \n",
      "2354765              0.29           NEUTRAL         C13H12N2O   \n",
      "2354831              1.39              ACID     C10H15N5O10P2   \n",
      "\n",
      "                                                    Smiles  \\\n",
      "1198227                                            [129Xe]   \n",
      "1564963               Nc1ccc2cc3ccc(N)cc3nc2c1.O=S(=O)(O)O   \n",
      "1607131                [11CH3]Nc1ccc(-c2nc3ccc(O)cc3s2)cc1   \n",
      "2085428  CC[C@H](C)[C@H](NC(=O)[C@H](CC(=O)O)NC(=O)[C@H...   \n",
      "2095326         NC(=O)NCCC[C@H](N)C(=O)O.O=C(O)CC(O)C(=O)O   \n",
      "2103477  [11CH3]Oc1ccc(-c2c(C#N)c(C(=O)NN3CCCCC3)nn2-c2...   \n",
      "2104565  CC/N=c1\\cc2oc3cc(NCC)c(C)cc3c(-c3ccccc3C(=O)OC...   \n",
      "2110543                              CNCC(O)c1ccc(O)c(O)c1   \n",
      "2114420                      CNc1ccc(-c2nc3ccc(O)cc3s2)cc1   \n",
      "2260072  CC(=O)[C@@]1(O)CC[C@H]2[C@@H]3C=C(Cl)C4=CC(=O)...   \n",
      "2260500                                     NCCCNCCCCNCCCN   \n",
      "2260598  CNC(=O)[C@@H](Cc1ccccc1F)CN1CCC2(CC1)OCCc1cc(F...   \n",
      "2262249                                                NaN   \n",
      "2264517                                                NaN   \n",
      "2264994                                                NaN   \n",
      "2276613  COc1ccc(-c2c(C#N)c(C(=O)NN3CCCCC3)nn2-c2ccc(Cl...   \n",
      "2278243                                                 NN   \n",
      "2278891                                     C[N+](C)(C)CCO   \n",
      "2282701                                                NaN   \n",
      "2282977                         Cn1c(=O)[nH]c2ncn(C)c2c1=O   \n",
      "2283155                                                NaN   \n",
      "2350415  [2H]C([2H])([2H])[N+](CCO)(C([2H])([2H])[2H])C...   \n",
      "2352862                   c1ccc2c(c1)cc1ccc3cccc4ccc2c1c34   \n",
      "2353686                                                NaN   \n",
      "2353724                                C=CCc1ccc(O)c(OC)c1   \n",
      "2354117  CC(C)=CCC[C@](C)(O[C@@H]1O[C@H](CO)[C@@H](O)[C...   \n",
      "2354624  C=C1C[C@@]23CC[C@H]4[C@@](C)(CCC[C@@]4(C)C(=O)...   \n",
      "2354765                      COc1ccc2c(c1)[nH]c1c(C)nccc12   \n",
      "2354831  Nc1ncnc2c1ncn2[C@@H]1O[C@H](COP(=O)(O)OP(=O)(O...   \n",
      "\n",
      "                           Inchi Key  \n",
      "1198227  FHNFHKCVQCLJFQ-YPZZEJLDSA-N  \n",
      "1564963  WSFHCKWLECYVBS-UHFFFAOYSA-N  \n",
      "1607131  ZQAQXZBSGZUUNL-BJUDXGSMSA-N  \n",
      "2085428  ZGOVYTPSWMLYOF-QEADGSHQSA-N  \n",
      "2095326  DROVUXYZTXCEBX-WCCKRBBISA-N  \n",
      "2103477  MCNQUWLLXZZZAC-BJUDXGSMSA-N  \n",
      "2104565  IWWWBRIIGAXLCJ-BGABXYSRSA-N  \n",
      "2110543  UCTWMZQNUQWSLP-UHFFFAOYSA-N  \n",
      "2114420  ZQAQXZBSGZUUNL-UHFFFAOYSA-N  \n",
      "2260072  DUSHUSLJJMDGTE-ZJPMUUANSA-N  \n",
      "2260500  PFNFFQXMRSDOHW-UHFFFAOYSA-N  \n",
      "2260598  MZBCQWLYUQJXKA-KRWDZBQOSA-N  \n",
      "2262249                          NaN  \n",
      "2264517                          NaN  \n",
      "2264994                          NaN  \n",
      "2276613  MCNQUWLLXZZZAC-UHFFFAOYSA-N  \n",
      "2278243  OAKJQQAXSVQMHS-UHFFFAOYSA-N  \n",
      "2278891  OEYIOHPDSNJKLS-UHFFFAOYSA-N  \n",
      "2282701                          NaN  \n",
      "2282977  QUNWUDVFRNGTCO-UHFFFAOYSA-N  \n",
      "2283155                          NaN  \n",
      "2350415  OEYIOHPDSNJKLS-GQALSZNTSA-N  \n",
      "2352862  FMMWHPNWAFZXNH-UHFFFAOYSA-N  \n",
      "2353686                          NaN  \n",
      "2353724  RRAFCDWBNXTKKO-UHFFFAOYSA-N  \n",
      "2354117  PWAOOJDMFUQOKB-WCZZMFLVSA-N  \n",
      "2354624  GSGVXNMGMKBGQU-PHESRWQRSA-N  \n",
      "2354765  BXNJHAXVSOCGBA-UHFFFAOYSA-N  \n",
      "2354831  XTWYTFMLZFPYCI-KQYNXXCUSA-N  \n",
      "\n",
      "[29 rows x 33 columns]\n"
     ]
    }
   ],
   "source": [
    "df_early_phase = df[df['Max Phase'] == 0.5] #early_phase\n",
    "print(df_early_phase)"
   ]
  },
  {
   "cell_type": "code",
   "execution_count": 14,
   "id": "abf7f934",
   "metadata": {
    "execution": {
     "iopub.execute_input": "2023-05-18T16:42:38.645871Z",
     "iopub.status.busy": "2023-05-18T16:42:38.645455Z",
     "iopub.status.idle": "2023-05-18T16:42:38.658331Z",
     "shell.execute_reply": "2023-05-18T16:42:38.656770Z"
    },
    "papermill": {
     "duration": 0.02702,
     "end_time": "2023-05-18T16:42:38.660910",
     "exception": false,
     "start_time": "2023-05-18T16:42:38.633890",
     "status": "completed"
    },
    "tags": []
   },
   "outputs": [
    {
     "name": "stdout",
     "output_type": "stream",
     "text": [
      "Empty DataFrame\n",
      "Columns: [ChEMBL ID, Name, Synonyms, Type, Max Phase, Molecular Weight, Targets, Bioactivities, AlogP, Polar Surface Area, HBA, HBD, #RO5 Violations, #Rotatable Bonds, Passes Ro3, QED Weighted, CX Acidic pKa, CX Basic pKa, CX LogP, CX LogD, Aromatic Rings, Structure Type, Inorganic Flag, Heavy Atoms, HBA (Lipinski), HBD (Lipinski), #RO5 Violations (Lipinski), Molecular Weight (Monoisotopic), Np Likeness Score, Molecular Species, Molecular Formula, Smiles, Inchi Key]\n",
      "Index: []\n",
      "\n",
      "[0 rows x 33 columns]\n"
     ]
    }
   ],
   "source": [
    "df_priclinical_1 = df[df[\"Max Phase\"].isnull()] # priclinical 1\n",
    "print(df_priclinical_1)"
   ]
  },
  {
   "cell_type": "code",
   "execution_count": 15,
   "id": "dfd65ae5",
   "metadata": {
    "collapsed": true,
    "execution": {
     "iopub.execute_input": "2023-05-18T16:42:38.683540Z",
     "iopub.status.busy": "2023-05-18T16:42:38.682539Z",
     "iopub.status.idle": "2023-05-18T16:42:41.533941Z",
     "shell.execute_reply": "2023-05-18T16:42:41.531499Z"
    },
    "jupyter": {
     "outputs_hidden": true
    },
    "papermill": {
     "duration": 2.865416,
     "end_time": "2023-05-18T16:42:41.536592",
     "exception": false,
     "start_time": "2023-05-18T16:42:38.671176",
     "status": "completed"
    },
    "tags": []
   },
   "outputs": [
    {
     "name": "stdout",
     "output_type": "stream",
     "text": [
      "             ChEMBL ID          Name  \\\n",
      "0        CHEMBL2332669           NaN   \n",
      "1        CHEMBL1254582           NaN   \n",
      "2        CHEMBL1422011           NaN   \n",
      "3        CHEMBL1384184           NaN   \n",
      "4        CHEMBL1870873           NaN   \n",
      "...                ...           ...   \n",
      "2354954  CHEMBL2109090     ENLIMOMAB   \n",
      "2354958  CHEMBL1187694   QUIFENADINE   \n",
      "2354959  CHEMBL2109114  BOROGLYCERIN   \n",
      "2354961  CHEMBL1191989    FLUTIZENOL   \n",
      "2354962  CHEMBL1192237  ZINOCONAZOLE   \n",
      "\n",
      "                                                  Synonyms            Type  \\\n",
      "0                                                      NaN  Small molecule   \n",
      "1                                                      NaN  Small molecule   \n",
      "2                                                      NaN  Small molecule   \n",
      "3                                                      NaN  Small molecule   \n",
      "4                                                      NaN  Small molecule   \n",
      "...                                                    ...             ...   \n",
      "2354954                     BI-RR-0001|BIRR-0001|ENLIMOMAB        Antibody   \n",
      "2354958                                        QUIFENADINE  Small molecule   \n",
      "2354959  BOROGLYCERIN|BOROGLYCERIN GLYCERITE|BOROGLYCER...         Unknown   \n",
      "2354961                                         FLUTIZENOL  Small molecule   \n",
      "2354962                                       ZINOCONAZOLE  Small molecule   \n",
      "\n",
      "         Max Phase  Molecular Weight  Targets  Bioactivities  AlogP  \\\n",
      "0             -1.0            356.28      2.0            3.0  -1.62   \n",
      "1             -1.0            439.58      7.0            7.0   5.04   \n",
      "2             -1.0            359.36      4.0            4.0   2.50   \n",
      "3             -1.0            395.50     10.0           11.0   3.04   \n",
      "4             -1.0            217.22      4.0            5.0   1.71   \n",
      "...            ...               ...      ...            ...    ...   \n",
      "2354954       -1.0               NaN      NaN            NaN    NaN   \n",
      "2354958       -1.0            293.41      5.0            8.0   3.26   \n",
      "2354959       -1.0               NaN      NaN            NaN    NaN   \n",
      "2354961       -1.0            443.56      NaN            NaN   4.37   \n",
      "2354962       -1.0            385.71      NaN            NaN   5.42   \n",
      "\n",
      "        Polar Surface Area  ... Heavy Atoms HBA (Lipinski) HBD (Lipinski)  \\\n",
      "0                   170.05  ...          25             10              6   \n",
      "1                    48.95  ...          31              5              1   \n",
      "2                    84.71  ...          26              7              1   \n",
      "3                    53.09  ...          29              6              0   \n",
      "4                    55.40  ...          16              4              1   \n",
      "...                    ...  ...         ...            ...            ...   \n",
      "2354954                NaN  ...         NaN            NaN            NaN   \n",
      "2354958              23.47  ...          22              2              1   \n",
      "2354959                NaN  ...         NaN            NaN            NaN   \n",
      "2354961              29.95  ...          29              4              1   \n",
      "2354962              42.21  ...          23              4              1   \n",
      "\n",
      "        #RO5 Violations (Lipinski) Molecular Weight (Monoisotopic)  \\\n",
      "0                                1                        356.0743   \n",
      "1                                1                        439.1817   \n",
      "2                                0                        359.1281   \n",
      "3                                0                        395.2209   \n",
      "4                                0                        217.0739   \n",
      "...                            ...                             ...   \n",
      "2354954                        NaN                             NaN   \n",
      "2354958                          0                         293.178   \n",
      "2354959                        NaN                             NaN   \n",
      "2354961                          0                        443.1313   \n",
      "2354962                          1                         383.977   \n",
      "\n",
      "        Np Likeness Score Molecular Species Molecular Formula  \\\n",
      "0                    2.16              ACID         C15H16O10   \n",
      "1                   -0.52              BASE        C25H29NO4S   \n",
      "2                   -2.20           NEUTRAL       C18H18FN3O4   \n",
      "3                   -1.51           NEUTRAL        C23H29N3O3   \n",
      "4                   -0.97           NEUTRAL         C12H11NO3   \n",
      "...                   ...               ...               ...   \n",
      "2354954               NaN               NaN               NaN   \n",
      "2354958              0.14              BASE          C20H23NO   \n",
      "2354959               NaN               NaN               NaN   \n",
      "2354961             -1.39           NEUTRAL     C20H24F3N3OS2   \n",
      "2354962             -1.92           NEUTRAL      C15H11Cl3N4S   \n",
      "\n",
      "                                                    Smiles  \\\n",
      "0        O=c1c(O[C@@H]2O[C@H](CO)[C@@H](O)[C@H](O)[C@H]...   \n",
      "1                  COc1cccc(OC)c1SCCNCCOc1ccccc1OCc1ccccc1   \n",
      "2        O=C(NCc1ccc(F)cc1)c1ccc(N2CCOCC2)c([N+](=O)[O-...   \n",
      "3          CCN(CC)c1ccc(C(=O)OCC(=O)N2CCN(c3ccccc3)CC2)cc1   \n",
      "4                             O=C1OCc2ccc(NC(=O)C3CC3)cc21   \n",
      "...                                                    ...   \n",
      "2354954                                                NaN   \n",
      "2354958                 OC(c1ccccc1)(c1ccccc1)C1CN2CCC1CC2   \n",
      "2354959                                                NaN   \n",
      "2354961      OCCN1CCN(CCCN2c3cc(C(F)(F)F)ccc3Sc3sccc32)CC1   \n",
      "2354962          Clc1ccc(/C(Cn2ccnc2)=N/Nc2c(Cl)cccc2Cl)s1   \n",
      "\n",
      "                           Inchi Key  \n",
      "0        HLASXNXXKUJRCN-WMNSZERYSA-N  \n",
      "1        IHLSYSUPBGFXLU-UHFFFAOYSA-N  \n",
      "2        JQSZSEPCHAVESY-UHFFFAOYSA-N  \n",
      "3        QDUCWVIFLLKBSB-UHFFFAOYSA-N  \n",
      "4        RTLHNZVDJGSAMU-UHFFFAOYSA-N  \n",
      "...                              ...  \n",
      "2354954                          NaN  \n",
      "2354958  PZMAHNDJABQWGS-UHFFFAOYSA-N  \n",
      "2354959                          NaN  \n",
      "2354961  HDPDWVAJUZMKRW-UHFFFAOYSA-N  \n",
      "2354962  KCHHCAJDHQEGNL-UDWIEESQSA-N  \n",
      "\n",
      "[2344938 rows x 33 columns]\n"
     ]
    }
   ],
   "source": [
    "df_priclinical = df[df['Max Phase'] == -1] # priclinical\n",
    "print(df_priclinical)"
   ]
  },
  {
   "cell_type": "code",
   "execution_count": 16,
   "id": "da6a5287",
   "metadata": {
    "execution": {
     "iopub.execute_input": "2023-05-18T16:42:41.559793Z",
     "iopub.status.busy": "2023-05-18T16:42:41.559359Z",
     "iopub.status.idle": "2023-05-18T16:42:41.760199Z",
     "shell.execute_reply": "2023-05-18T16:42:41.759030Z"
    },
    "papermill": {
     "duration": 0.21561,
     "end_time": "2023-05-18T16:42:41.762881",
     "exception": false,
     "start_time": "2023-05-18T16:42:41.547271",
     "status": "completed"
    },
    "tags": []
   },
   "outputs": [
    {
     "name": "stdout",
     "output_type": "stream",
     "text": [
      "Max Phase  Max Phase\n",
      "-1.0       -1.0         2344938\n",
      " 0.5        0.5              29\n",
      " 1.0        1.0            1595\n",
      " 2.0        2.0            2474\n",
      " 3.0        3.0            1735\n",
      " 4.0        4.0            4194\n",
      "Name: Max Phase, dtype: int64\n"
     ]
    }
   ],
   "source": [
    "grouped = df.groupby(\"Max Phase\")[\"Max Phase\"].value_counts()  #Total number of each pahse, -1 priclinical, 0.5 early phase, 1,2 and 3 are phase, 4 approved\n",
    "print(grouped)"
   ]
  },
  {
   "cell_type": "code",
   "execution_count": 17,
   "id": "a9921fa1",
   "metadata": {
    "execution": {
     "iopub.execute_input": "2023-05-18T16:42:41.785523Z",
     "iopub.status.busy": "2023-05-18T16:42:41.785129Z",
     "iopub.status.idle": "2023-05-18T16:42:42.325248Z",
     "shell.execute_reply": "2023-05-18T16:42:42.323864Z"
    },
    "papermill": {
     "duration": 0.554525,
     "end_time": "2023-05-18T16:42:42.327848",
     "exception": false,
     "start_time": "2023-05-18T16:42:41.773323",
     "status": "completed"
    },
    "tags": []
   },
   "outputs": [
    {
     "name": "stdout",
     "output_type": "stream",
     "text": [
      "Type\n",
      "Antibody              1046\n",
      "Cell                    55\n",
      "Enzyme                 121\n",
      "Gene                   107\n",
      "Oligonucleotide        201\n",
      "Oligosaccharide         95\n",
      "Protein              22750\n",
      "Small molecule     1920599\n",
      "Unknown             409991\n",
      "Name: Type, dtype: int64\n"
     ]
    }
   ],
   "source": [
    "# Group the rows by the Type column and count the number of rows for each group\n",
    "grouped = df.groupby('Type')['Type'].count()\n",
    "\n",
    "# Print the result for each group\n",
    "\n",
    "#print(\"Number of rows for Antibody type: \", grouped['Antibody'])\n",
    "#print(\"Number of rows for Cell type: \", grouped['Cell'])\n",
    "#print(\"Number of rows for Enzyme type: \", grouped['Enzyme'])\n",
    "#print(\"Number of rows for Gene type: \", grouped['Gene'])\n",
    "#print(\"Number of rows for Oligonucleotide type: \", grouped['Oligonucleotide'])\n",
    "#print(\"Number of rows for Oligosaccharide type: \", grouped['Oligosaccharide'])\n",
    "#print(\"Number of rows for Protein type: \", grouped['Protein'])\n",
    "#print(\"Number of rows for Small molecule type: \", grouped['Small molecule'])\n",
    "\n",
    "print(grouped)"
   ]
  },
  {
   "cell_type": "code",
   "execution_count": 18,
   "id": "0f80d6c0",
   "metadata": {
    "collapsed": true,
    "execution": {
     "iopub.execute_input": "2023-05-18T16:42:42.351498Z",
     "iopub.status.busy": "2023-05-18T16:42:42.350633Z",
     "iopub.status.idle": "2023-05-18T16:42:45.169659Z",
     "shell.execute_reply": "2023-05-18T16:42:45.167579Z"
    },
    "jupyter": {
     "outputs_hidden": true
    },
    "papermill": {
     "duration": 2.834013,
     "end_time": "2023-05-18T16:42:45.172518",
     "exception": false,
     "start_time": "2023-05-18T16:42:42.338505",
     "status": "completed"
    },
    "tags": []
   },
   "outputs": [
    {
     "name": "stdout",
     "output_type": "stream",
     "text": [
      "             ChEMBL ID          Name  \\\n",
      "0        CHEMBL2332669           NaN   \n",
      "1        CHEMBL1254582           NaN   \n",
      "2        CHEMBL1422011           NaN   \n",
      "3        CHEMBL1384184           NaN   \n",
      "4        CHEMBL1870873           NaN   \n",
      "...                ...           ...   \n",
      "2354957  CHEMBL4650343   IZENCITINIB   \n",
      "2354958  CHEMBL1187694   QUIFENADINE   \n",
      "2354960      CHEMBL535     SUNITINIB   \n",
      "2354961  CHEMBL1191989    FLUTIZENOL   \n",
      "2354962  CHEMBL1192237  ZINOCONAZOLE   \n",
      "\n",
      "                                                  Synonyms            Type  \\\n",
      "0                                                      NaN  Small molecule   \n",
      "1                                                      NaN  Small molecule   \n",
      "2                                                      NaN  Small molecule   \n",
      "3                                                      NaN  Small molecule   \n",
      "4                                                      NaN  Small molecule   \n",
      "...                                                    ...             ...   \n",
      "2354957                         IZENCITINIB|TD-1473|TD1473  Small molecule   \n",
      "2354958                                        QUIFENADINE  Small molecule   \n",
      "2354960  NSC-736511|NSC-750690|SU-011248|SU-11248|SU011...  Small molecule   \n",
      "2354961                                         FLUTIZENOL  Small molecule   \n",
      "2354962                                       ZINOCONAZOLE  Small molecule   \n",
      "\n",
      "         Max Phase  Molecular Weight  Targets  Bioactivities  AlogP  \\\n",
      "0             -1.0            356.28      2.0            3.0  -1.62   \n",
      "1             -1.0            439.58      7.0            7.0   5.04   \n",
      "2             -1.0            359.36      4.0            4.0   2.50   \n",
      "3             -1.0            395.50     10.0           11.0   3.04   \n",
      "4             -1.0            217.22      4.0            5.0   1.71   \n",
      "...            ...               ...      ...            ...    ...   \n",
      "2354957        2.0            402.51      NaN            NaN   3.73   \n",
      "2354958       -1.0            293.41      5.0            8.0   3.26   \n",
      "2354960        4.0            398.48   1194.0         3838.0   3.33   \n",
      "2354961       -1.0            443.56      NaN            NaN   4.37   \n",
      "2354962       -1.0            385.71      NaN            NaN   5.42   \n",
      "\n",
      "        Polar Surface Area  ... Heavy Atoms HBA (Lipinski) HBD (Lipinski)  \\\n",
      "0                   170.05  ...          25             10              6   \n",
      "1                    48.95  ...          31              5              1   \n",
      "2                    84.71  ...          26              7              1   \n",
      "3                    53.09  ...          29              6              0   \n",
      "4                    55.40  ...          16              4              1   \n",
      "...                    ...  ...         ...            ...            ...   \n",
      "2354957             105.55  ...          30              8              3   \n",
      "2354958              23.47  ...          22              2              1   \n",
      "2354960              77.23  ...          29              6              3   \n",
      "2354961              29.95  ...          29              4              1   \n",
      "2354962              42.21  ...          23              4              1   \n",
      "\n",
      "        #RO5 Violations (Lipinski) Molecular Weight (Monoisotopic)  \\\n",
      "0                                1                        356.0743   \n",
      "1                                1                        439.1817   \n",
      "2                                0                        359.1281   \n",
      "3                                0                        395.2209   \n",
      "4                                0                        217.0739   \n",
      "...                            ...                             ...   \n",
      "2354957                          0                         402.228   \n",
      "2354958                          0                         293.178   \n",
      "2354960                          0                        398.2118   \n",
      "2354961                          0                        443.1313   \n",
      "2354962                          1                         383.977   \n",
      "\n",
      "        Np Likeness Score Molecular Species Molecular Formula  \\\n",
      "0                    2.16              ACID         C15H16O10   \n",
      "1                   -0.52              BASE        C25H29NO4S   \n",
      "2                   -2.20           NEUTRAL       C18H18FN3O4   \n",
      "3                   -1.51           NEUTRAL        C23H29N3O3   \n",
      "4                   -0.97           NEUTRAL         C12H11NO3   \n",
      "...                   ...               ...               ...   \n",
      "2354957             -1.29           NEUTRAL          C22H26N8   \n",
      "2354958              0.14              BASE          C20H23NO   \n",
      "2354960             -1.21              BASE       C22H27FN4O2   \n",
      "2354961             -1.39           NEUTRAL     C20H24F3N3OS2   \n",
      "2354962             -1.92           NEUTRAL      C15H11Cl3N4S   \n",
      "\n",
      "                                                    Smiles  \\\n",
      "0        O=c1c(O[C@@H]2O[C@H](CO)[C@@H](O)[C@H](O)[C@H]...   \n",
      "1                  COc1cccc(OC)c1SCCNCCOc1ccccc1OCc1ccccc1   \n",
      "2        O=C(NCc1ccc(F)cc1)c1ccc(N2CCOCC2)c([N+](=O)[O-...   \n",
      "3          CCN(CC)c1ccc(C(=O)OCC(=O)N2CCN(c3ccccc3)CC2)cc1   \n",
      "4                             O=C1OCc2ccc(NC(=O)C3CC3)cc21   \n",
      "...                                                    ...   \n",
      "2354957  Cc1cc(Nc2cc3ncccc3c(N[C@@H]3C[C@H]4CC[C@@H](C3...   \n",
      "2354958                 OC(c1ccccc1)(c1ccccc1)C1CN2CCC1CC2   \n",
      "2354960  CCN(CC)CCNC(=O)c1c(C)[nH]c(/C=C2\\C(=O)Nc3ccc(F...   \n",
      "2354961      OCCN1CCN(CCCN2c3cc(C(F)(F)F)ccc3Sc3sccc32)CC1   \n",
      "2354962          Clc1ccc(/C(Cn2ccnc2)=N/Nc2c(Cl)cccc2Cl)s1   \n",
      "\n",
      "                           Inchi Key  \n",
      "0        HLASXNXXKUJRCN-WMNSZERYSA-N  \n",
      "1        IHLSYSUPBGFXLU-UHFFFAOYSA-N  \n",
      "2        JQSZSEPCHAVESY-UHFFFAOYSA-N  \n",
      "3        QDUCWVIFLLKBSB-UHFFFAOYSA-N  \n",
      "4        RTLHNZVDJGSAMU-UHFFFAOYSA-N  \n",
      "...                              ...  \n",
      "2354957  DADAEARVGOQWHV-OSYLJGHBSA-N  \n",
      "2354958  PZMAHNDJABQWGS-UHFFFAOYSA-N  \n",
      "2354960  WINHZLLDWRZWRT-ATVHPVEESA-N  \n",
      "2354961  HDPDWVAJUZMKRW-UHFFFAOYSA-N  \n",
      "2354962  KCHHCAJDHQEGNL-UDWIEESQSA-N  \n",
      "\n",
      "[1920599 rows x 33 columns]\n"
     ]
    }
   ],
   "source": [
    "df_small_drugs = df[df['Type'] == 'Small molecule'] #small drugs\n",
    "print(df_small_drugs)"
   ]
  },
  {
   "cell_type": "code",
   "execution_count": 19,
   "id": "6299de08",
   "metadata": {
    "collapsed": true,
    "execution": {
     "iopub.execute_input": "2023-05-18T16:42:45.197556Z",
     "iopub.status.busy": "2023-05-18T16:42:45.196513Z",
     "iopub.status.idle": "2023-05-18T16:42:45.513499Z",
     "shell.execute_reply": "2023-05-18T16:42:45.512000Z"
    },
    "jupyter": {
     "outputs_hidden": true
    },
    "papermill": {
     "duration": 0.332656,
     "end_time": "2023-05-18T16:42:45.516094",
     "exception": false,
     "start_time": "2023-05-18T16:42:45.183438",
     "status": "completed"
    },
    "tags": []
   },
   "outputs": [
    {
     "name": "stdout",
     "output_type": "stream",
     "text": [
      "Max Phase\n",
      "-1.0    2344938\n",
      " 0.5         29\n",
      " 1.0       1595\n",
      " 2.0       2474\n",
      " 3.0       1735\n",
      " 4.0       4194\n",
      "Name: Type, dtype: int64\n"
     ]
    }
   ],
   "source": [
    "no_small_phase = df.groupby('Max Phase')['Type'].count() #number of each phase for small molecule\n",
    "\n",
    "print(no_small_phase)"
   ]
  },
  {
   "cell_type": "code",
   "execution_count": 20,
   "id": "4fa941a3",
   "metadata": {
    "execution": {
     "iopub.execute_input": "2023-05-18T16:42:45.540333Z",
     "iopub.status.busy": "2023-05-18T16:42:45.539909Z",
     "iopub.status.idle": "2023-05-18T16:42:45.555935Z",
     "shell.execute_reply": "2023-05-18T16:42:45.554406Z"
    },
    "papermill": {
     "duration": 0.03089,
     "end_time": "2023-05-18T16:42:45.558399",
     "exception": false,
     "start_time": "2023-05-18T16:42:45.527509",
     "status": "completed"
    },
    "tags": []
   },
   "outputs": [
    {
     "name": "stdout",
     "output_type": "stream",
     "text": [
      "418.4708480606633\n"
     ]
    }
   ],
   "source": [
    "average_mwt_small_molecule = df_small_drugs['Molecular Weight'].mean() #Avergae Mwt of small drugs\n",
    "print(average_mwt_small_molecule)"
   ]
  },
  {
   "cell_type": "code",
   "execution_count": 21,
   "id": "87d2aab9",
   "metadata": {
    "execution": {
     "iopub.execute_input": "2023-05-18T16:42:45.582537Z",
     "iopub.status.busy": "2023-05-18T16:42:45.582119Z",
     "iopub.status.idle": "2023-05-18T16:42:45.598115Z",
     "shell.execute_reply": "2023-05-18T16:42:45.596791Z"
    },
    "papermill": {
     "duration": 0.030994,
     "end_time": "2023-05-18T16:42:45.600565",
     "exception": false,
     "start_time": "2023-05-18T16:42:45.569571",
     "status": "completed"
    },
    "tags": []
   },
   "outputs": [
    {
     "name": "stdout",
     "output_type": "stream",
     "text": [
      "12546.32\n"
     ]
    }
   ],
   "source": [
    "max_mwt_small_molecule = df_small_drugs['Molecular Weight'].max() #Max Mwt of small drugs\n",
    "print(max_mwt_small_molecule)"
   ]
  },
  {
   "cell_type": "code",
   "execution_count": 22,
   "id": "dc75a6ed",
   "metadata": {
    "execution": {
     "iopub.execute_input": "2023-05-18T16:42:45.624951Z",
     "iopub.status.busy": "2023-05-18T16:42:45.624503Z",
     "iopub.status.idle": "2023-05-18T16:42:45.640213Z",
     "shell.execute_reply": "2023-05-18T16:42:45.638986Z"
    },
    "papermill": {
     "duration": 0.030715,
     "end_time": "2023-05-18T16:42:45.642637",
     "exception": false,
     "start_time": "2023-05-18T16:42:45.611922",
     "status": "completed"
    },
    "tags": []
   },
   "outputs": [
    {
     "name": "stdout",
     "output_type": "stream",
     "text": [
      "4.0\n"
     ]
    }
   ],
   "source": [
    "min_mwt_small_molecule = df_small_drugs['Molecular Weight'].min() #Min Mwt of small drugs\n",
    "print(min_mwt_small_molecule)"
   ]
  },
  {
   "cell_type": "code",
   "execution_count": 23,
   "id": "c4de4d3e",
   "metadata": {
    "execution": {
     "iopub.execute_input": "2023-05-18T16:42:45.667447Z",
     "iopub.status.busy": "2023-05-18T16:42:45.666611Z",
     "iopub.status.idle": "2023-05-18T16:42:45.694322Z",
     "shell.execute_reply": "2023-05-18T16:42:45.693518Z"
    },
    "papermill": {
     "duration": 0.042798,
     "end_time": "2023-05-18T16:42:45.696813",
     "exception": false,
     "start_time": "2023-05-18T16:42:45.654015",
     "status": "completed"
    },
    "tags": []
   },
   "outputs": [
    {
     "name": "stdout",
     "output_type": "stream",
     "text": [
      "             ChEMBL ID    Name                                       Synonyms  \\\n",
      "2259169  CHEMBL1796997  HELIUM  E-939|E939|HELIUM|HELIUM-4|INS NO.939|INS-939   \n",
      "\n",
      "                   Type  Max Phase  Molecular Weight  Targets  Bioactivities  \\\n",
      "2259169  Small molecule        4.0               4.0      1.0            3.0   \n",
      "\n",
      "        AlogP Polar Surface Area  ... Heavy Atoms HBA (Lipinski)  \\\n",
      "2259169  None               None  ...        None           None   \n",
      "\n",
      "        HBD (Lipinski) #RO5 Violations (Lipinski)  \\\n",
      "2259169           None                       None   \n",
      "\n",
      "        Molecular Weight (Monoisotopic) Np Likeness Score Molecular Species  \\\n",
      "2259169                          4.0026              None              None   \n",
      "\n",
      "        Molecular Formula Smiles                    Inchi Key  \n",
      "2259169                He   [He]  SWQJXJOGLNCZEY-UHFFFAOYSA-N  \n",
      "\n",
      "[1 rows x 33 columns]\n"
     ]
    }
   ],
   "source": [
    "min_mwt_small_molecule = df_small_drugs['Molecular Weight'].min() #row of the minimum Mwt in small molecule\n",
    "df_min_mwt = df_small_drugs[df_small_drugs['Molecular Weight'] == min_mwt_small_molecule]\n",
    "print(df_min_mwt)"
   ]
  }
 ],
 "metadata": {
  "kernelspec": {
   "display_name": "Python 3",
   "language": "python",
   "name": "python3"
  },
  "language_info": {
   "codemirror_mode": {
    "name": "ipython",
    "version": 3
   },
   "file_extension": ".py",
   "mimetype": "text/x-python",
   "name": "python",
   "nbconvert_exporter": "python",
   "pygments_lexer": "ipython3",
   "version": "3.10.10"
  },
  "papermill": {
   "default_parameters": {},
   "duration": 66.79753,
   "end_time": "2023-05-18T16:42:48.035909",
   "environment_variables": {},
   "exception": null,
   "input_path": "__notebook__.ipynb",
   "output_path": "__notebook__.ipynb",
   "parameters": {},
   "start_time": "2023-05-18T16:41:41.238379",
   "version": "2.4.0"
  }
 },
 "nbformat": 4,
 "nbformat_minor": 5
}
